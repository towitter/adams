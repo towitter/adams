{
 "cells": [
  {
   "cell_type": "markdown",
   "metadata": {},
   "source": [
    "# Sentiment analysis\n",
    "\n",
    "One of the most popular and frequent tasks when it comes to dealing with text, it also brings us back to the good old binary classification challenge. We will look at the processed data set of movie reviews, originally gathered and studied by Maas et al (https://www.aclweb.org/anthology/P11-1015). Movie comments are labeled as \"1\" for positive reviews and \"0\" for negative. Let's consider methods from simplest to more complex:\n",
    " \n",
    " 1. Dictionary based\n",
    " 2. Logit with vectorized inputs\n",
    " 3. w2v embeddings trained within model + GRU\n",
    " 4. GloVe pretrained embeddings + GRU\n",
    " 5. GloVe pretrained embeddings + GRU + bidirectinoal wrapper\n"
   ]
  },
  {
   "cell_type": "code",
   "execution_count": 1,
   "metadata": {},
   "outputs": [
    {
     "name": "stderr",
     "output_type": "stream",
     "text": [
      "Using TensorFlow backend.\n",
      "/Users/hauptjoh/anaconda/envs/adams/lib/python3.7/importlib/_bootstrap.py:219: RuntimeWarning: compiletime version 3.6 of module 'tensorflow.python.framework.fast_tensor_util' does not match runtime version 3.7\n",
      "  return f(*args, **kwds)\n"
     ]
    }
   ],
   "source": [
    "import pandas as pd\n",
    "import numpy as np\n",
    "\n",
    "# Library re provides regular expressions functionality\n",
    "import re\n",
    "\n",
    "# Library beatifulsoup4 handles html\n",
    "from bs4 import BeautifulSoup\n",
    "\n",
    "import nltk\n",
    "from nltk.tokenize import word_tokenize\n",
    "from nltk.corpus import stopwords\n",
    "from nltk.stem import WordNetLemmatizer\n",
    "#from nltk.classify.scikitlearn import SklearnClassifier\n",
    "\n",
    "from sklearn import model_selection\n",
    "from sklearn.preprocessing import LabelEncoder\n",
    "from sklearn.model_selection import train_test_split\n",
    "from sklearn.metrics import classification_report, confusion_matrix\n",
    "\n",
    "from keras.models import Sequential\n",
    "from keras.layers import Dense, Embedding, LSTM,GRU\n",
    "from keras.layers.embeddings import Embedding\n",
    "from keras.initializers import Constant\n",
    "\n",
    "import matplotlib.pyplot as plt\n",
    "%matplotlib inline"
   ]
  },
  {
   "cell_type": "code",
   "execution_count": 70,
   "metadata": {},
   "outputs": [
    {
     "data": {
      "text/plain": [
       "(748, 2)"
      ]
     },
     "execution_count": 70,
     "metadata": {},
     "output_type": "execute_result"
    }
   ],
   "source": [
    "#text document for a difference, IMDB database snippet, positive (1), negative (0)\n",
    "df=pd.read_csv(\"imdb_labelled.txt\",names=['sentence', 'label'], sep='\\t')\n",
    "df.shape"
   ]
  },
  {
   "cell_type": "code",
   "execution_count": 71,
   "metadata": {},
   "outputs": [
    {
     "data": {
      "text/plain": [
       "'A very, very, very slow-moving, aimless movie about a distressed, drifting young man.  '"
      ]
     },
     "execution_count": 71,
     "metadata": {},
     "output_type": "execute_result"
    }
   ],
   "source": [
    "df.iloc[0,0]"
   ]
  },
  {
   "cell_type": "code",
   "execution_count": 72,
   "metadata": {},
   "outputs": [
    {
     "data": {
      "text/html": [
       "<div>\n",
       "<style scoped>\n",
       "    .dataframe tbody tr th:only-of-type {\n",
       "        vertical-align: middle;\n",
       "    }\n",
       "\n",
       "    .dataframe tbody tr th {\n",
       "        vertical-align: top;\n",
       "    }\n",
       "\n",
       "    .dataframe thead th {\n",
       "        text-align: right;\n",
       "    }\n",
       "</style>\n",
       "<table border=\"1\" class=\"dataframe\">\n",
       "  <thead>\n",
       "    <tr style=\"text-align: right;\">\n",
       "      <th></th>\n",
       "      <th>sentence</th>\n",
       "      <th>label</th>\n",
       "    </tr>\n",
       "  </thead>\n",
       "  <tbody>\n",
       "    <tr>\n",
       "      <th>0</th>\n",
       "      <td>A very, very, very slow-moving, aimless movie ...</td>\n",
       "      <td>0</td>\n",
       "    </tr>\n",
       "    <tr>\n",
       "      <th>1</th>\n",
       "      <td>Not sure who was more lost - the flat characte...</td>\n",
       "      <td>0</td>\n",
       "    </tr>\n",
       "    <tr>\n",
       "      <th>2</th>\n",
       "      <td>Attempting artiness with black &amp; white and cle...</td>\n",
       "      <td>0</td>\n",
       "    </tr>\n",
       "    <tr>\n",
       "      <th>3</th>\n",
       "      <td>Very little music or anything to speak of.</td>\n",
       "      <td>0</td>\n",
       "    </tr>\n",
       "    <tr>\n",
       "      <th>4</th>\n",
       "      <td>The best scene in the movie was when Gerardo i...</td>\n",
       "      <td>1</td>\n",
       "    </tr>\n",
       "    <tr>\n",
       "      <th>5</th>\n",
       "      <td>The rest of the movie lacks art, charm, meanin...</td>\n",
       "      <td>0</td>\n",
       "    </tr>\n",
       "    <tr>\n",
       "      <th>6</th>\n",
       "      <td>Wasted two hours.</td>\n",
       "      <td>0</td>\n",
       "    </tr>\n",
       "    <tr>\n",
       "      <th>7</th>\n",
       "      <td>Saw the movie today and thought it was a good ...</td>\n",
       "      <td>1</td>\n",
       "    </tr>\n",
       "    <tr>\n",
       "      <th>8</th>\n",
       "      <td>A bit predictable.</td>\n",
       "      <td>0</td>\n",
       "    </tr>\n",
       "    <tr>\n",
       "      <th>9</th>\n",
       "      <td>Loved the casting of Jimmy Buffet as the scien...</td>\n",
       "      <td>1</td>\n",
       "    </tr>\n",
       "  </tbody>\n",
       "</table>\n",
       "</div>"
      ],
      "text/plain": [
       "                                            sentence  label\n",
       "0  A very, very, very slow-moving, aimless movie ...      0\n",
       "1  Not sure who was more lost - the flat characte...      0\n",
       "2  Attempting artiness with black & white and cle...      0\n",
       "3       Very little music or anything to speak of.        0\n",
       "4  The best scene in the movie was when Gerardo i...      1\n",
       "5  The rest of the movie lacks art, charm, meanin...      0\n",
       "6                                Wasted two hours.        0\n",
       "7  Saw the movie today and thought it was a good ...      1\n",
       "8                               A bit predictable.        0\n",
       "9  Loved the casting of Jimmy Buffet as the scien...      1"
      ]
     },
     "execution_count": 72,
     "metadata": {},
     "output_type": "execute_result"
    }
   ],
   "source": [
    "df.head(10)"
   ]
  },
  {
   "cell_type": "code",
   "execution_count": 5,
   "metadata": {},
   "outputs": [
    {
     "data": {
      "text/plain": [
       "(array([362.,   0.,   0.,   0.,   0.,   0.,   0.,   0.,   0., 386.]),\n",
       " array([0. , 0.1, 0.2, 0.3, 0.4, 0.5, 0.6, 0.7, 0.8, 0.9, 1. ]),\n",
       " <a list of 10 Patch objects>)"
      ]
     },
     "execution_count": 5,
     "metadata": {},
     "output_type": "execute_result"
    },
    {
     "data": {
      "image/png": "[encoded data removed]",
      "text/plain": [
       "<Figure size 432x288 with 1 Axes>"
      ]
     },
     "metadata": {
      "needs_background": "light"
     },
     "output_type": "display_data"
    }
   ],
   "source": [
    "plt.hist(df[\"label\"])\n",
    "#for once we are balanced"
   ]
  },
  {
   "cell_type": "markdown",
   "metadata": {},
   "source": [
    "### 1. Classic example of sentiment analysis using dictionary"
   ]
  },
  {
   "cell_type": "markdown",
   "metadata": {},
   "source": [
    "A simple approach to rate the sentiment of a text is to literally model it as the sum of its parts through the sentiment of each word. AFINN is an English word listed developed by Finn Årup Nielsen. Words scores range from minus five (negative) to plus five (positive). The English language dictionary consists of 2,477 coded words."
   ]
  },
  {
   "cell_type": "code",
   "execution_count": 73,
   "metadata": {},
   "outputs": [],
   "source": [
    "from afinn import Afinn"
   ]
  },
  {
   "cell_type": "markdown",
   "metadata": {},
   "source": [
    "We look up the sentiment score for each word in turn and sum up the sentiment values over words."
   ]
  },
  {
   "cell_type": "code",
   "execution_count": 7,
   "metadata": {},
   "outputs": [
    {
     "name": "stdout",
     "output_type": "stream",
     "text": [
      "10.0\n",
      "-5.0\n",
      "0.0\n"
     ]
    }
   ],
   "source": [
    "afinn = Afinn(language='en')\n",
    "print(afinn.score(\"What a marvelous evening, the weather is simply delightful. Wonderful!\"))\n",
    "print(afinn.score(\"I am devastated, the donuts are not what they used to be, what a horrendous taste\"))\n",
    "print(afinn.score(\"To be or not to be, that is the question..\"))"
   ]
  },
  {
   "cell_type": "code",
   "execution_count": 75,
   "metadata": {},
   "outputs": [
    {
     "data": {
      "text/plain": [
       "-2.0"
      ]
     },
     "execution_count": 75,
     "metadata": {},
     "output_type": "execute_result"
    }
   ],
   "source": [
    "afinn.score('average')"
   ]
  },
  {
   "cell_type": "code",
   "execution_count": 74,
   "metadata": {},
   "outputs": [
    {
     "data": {
      "text/plain": [
       "count    748.000000\n",
       "mean       0.878342\n",
       "std        5.329307\n",
       "min      -15.000000\n",
       "25%       -2.000000\n",
       "50%        0.000000\n",
       "75%        3.000000\n",
       "max       77.000000\n",
       "Name: afinn_score, dtype: float64"
      ]
     },
     "execution_count": 74,
     "metadata": {},
     "output_type": "execute_result"
    }
   ],
   "source": [
    "df['afinn_score'] = df['sentence'].apply(afinn.score)\n",
    "df['afinn_score'].describe() # overall rather positive"
   ]
  },
  {
   "cell_type": "code",
   "execution_count": 77,
   "metadata": {},
   "outputs": [],
   "source": [
    "#Let's calculate the accuracy, we will say that if score is positive then it's a good review\n",
    "df['yhat'] = np.where(df['afinn_score']>0, 1, 0)"
   ]
  },
  {
   "cell_type": "code",
   "execution_count": 78,
   "metadata": {},
   "outputs": [
    {
     "data": {
      "text/html": [
       "<div>\n",
       "<style scoped>\n",
       "    .dataframe tbody tr th:only-of-type {\n",
       "        vertical-align: middle;\n",
       "    }\n",
       "\n",
       "    .dataframe tbody tr th {\n",
       "        vertical-align: top;\n",
       "    }\n",
       "\n",
       "    .dataframe thead th {\n",
       "        text-align: right;\n",
       "    }\n",
       "</style>\n",
       "<table border=\"1\" class=\"dataframe\">\n",
       "  <thead>\n",
       "    <tr style=\"text-align: right;\">\n",
       "      <th></th>\n",
       "      <th>sentence</th>\n",
       "      <th>label</th>\n",
       "      <th>afinn_score</th>\n",
       "      <th>yhat</th>\n",
       "    </tr>\n",
       "  </thead>\n",
       "  <tbody>\n",
       "    <tr>\n",
       "      <th>0</th>\n",
       "      <td>A very, very, very slow-moving, aimless movie ...</td>\n",
       "      <td>0</td>\n",
       "      <td>-2.0</td>\n",
       "      <td>0</td>\n",
       "    </tr>\n",
       "    <tr>\n",
       "      <th>1</th>\n",
       "      <td>Not sure who was more lost - the flat characte...</td>\n",
       "      <td>0</td>\n",
       "      <td>-3.0</td>\n",
       "      <td>0</td>\n",
       "    </tr>\n",
       "    <tr>\n",
       "      <th>2</th>\n",
       "      <td>Attempting artiness with black &amp; white and cle...</td>\n",
       "      <td>0</td>\n",
       "      <td>-5.0</td>\n",
       "      <td>0</td>\n",
       "    </tr>\n",
       "    <tr>\n",
       "      <th>3</th>\n",
       "      <td>Very little music or anything to speak of.</td>\n",
       "      <td>0</td>\n",
       "      <td>0.0</td>\n",
       "      <td>0</td>\n",
       "    </tr>\n",
       "    <tr>\n",
       "      <th>4</th>\n",
       "      <td>The best scene in the movie was when Gerardo i...</td>\n",
       "      <td>1</td>\n",
       "      <td>3.0</td>\n",
       "      <td>1</td>\n",
       "    </tr>\n",
       "    <tr>\n",
       "      <th>5</th>\n",
       "      <td>The rest of the movie lacks art, charm, meanin...</td>\n",
       "      <td>0</td>\n",
       "      <td>1.0</td>\n",
       "      <td>1</td>\n",
       "    </tr>\n",
       "    <tr>\n",
       "      <th>6</th>\n",
       "      <td>Wasted two hours.</td>\n",
       "      <td>0</td>\n",
       "      <td>-2.0</td>\n",
       "      <td>0</td>\n",
       "    </tr>\n",
       "    <tr>\n",
       "      <th>7</th>\n",
       "      <td>Saw the movie today and thought it was a good ...</td>\n",
       "      <td>1</td>\n",
       "      <td>6.0</td>\n",
       "      <td>1</td>\n",
       "    </tr>\n",
       "    <tr>\n",
       "      <th>8</th>\n",
       "      <td>A bit predictable.</td>\n",
       "      <td>0</td>\n",
       "      <td>0.0</td>\n",
       "      <td>0</td>\n",
       "    </tr>\n",
       "    <tr>\n",
       "      <th>9</th>\n",
       "      <td>Loved the casting of Jimmy Buffet as the scien...</td>\n",
       "      <td>1</td>\n",
       "      <td>3.0</td>\n",
       "      <td>1</td>\n",
       "    </tr>\n",
       "  </tbody>\n",
       "</table>\n",
       "</div>"
      ],
      "text/plain": [
       "                                            sentence  label  afinn_score  yhat\n",
       "0  A very, very, very slow-moving, aimless movie ...      0         -2.0     0\n",
       "1  Not sure who was more lost - the flat characte...      0         -3.0     0\n",
       "2  Attempting artiness with black & white and cle...      0         -5.0     0\n",
       "3       Very little music or anything to speak of.        0          0.0     0\n",
       "4  The best scene in the movie was when Gerardo i...      1          3.0     1\n",
       "5  The rest of the movie lacks art, charm, meanin...      0          1.0     1\n",
       "6                                Wasted two hours.        0         -2.0     0\n",
       "7  Saw the movie today and thought it was a good ...      1          6.0     1\n",
       "8                               A bit predictable.        0          0.0     0\n",
       "9  Loved the casting of Jimmy Buffet as the scien...      1          3.0     1"
      ]
     },
     "execution_count": 78,
     "metadata": {},
     "output_type": "execute_result"
    }
   ],
   "source": [
    "df.head(10)"
   ]
  },
  {
   "cell_type": "code",
   "execution_count": 79,
   "metadata": {},
   "outputs": [
    {
     "name": "stdout",
     "output_type": "stream",
     "text": [
      "Accuracy: 0.7700534759358288\n"
     ]
    }
   ],
   "source": [
    "from sklearn.metrics import accuracy_score\n",
    "\n",
    "score_dict=accuracy_score(df['label'], df['yhat'])\n",
    "print(\"Accuracy:\", score_dict)"
   ]
  },
  {
   "cell_type": "markdown",
   "metadata": {},
   "source": [
    "### 2. Baseline model: logit"
   ]
  },
  {
   "cell_type": "code",
   "execution_count": 80,
   "metadata": {},
   "outputs": [],
   "source": [
    "from sklearn.model_selection import train_test_split\n",
    "\n",
    "X_train, X_test, y_train, y_test = train_test_split(df['sentence'], df['label'], test_size=0.25, random_state=111)"
   ]
  },
  {
   "cell_type": "markdown",
   "metadata": {},
   "source": [
    "We will use vectorization for our baseline model: take the words of each sentence and create a vocabulary of all the unique words in the sentences. This vocabulary can then be used to create a feature vector of the count of the words."
   ]
  },
  {
   "cell_type": "code",
   "execution_count": 82,
   "metadata": {},
   "outputs": [],
   "source": [
    "from sklearn.feature_extraction.text import CountVectorizer"
   ]
  },
  {
   "cell_type": "code",
   "execution_count": 83,
   "metadata": {},
   "outputs": [],
   "source": [
    "vectorizer = CountVectorizer()\n",
    "vectorizer.fit(X_train)\n",
    "\n",
    "X_train = vectorizer.transform(X_train)\n",
    "X_test  = vectorizer.transform(X_test)"
   ]
  },
  {
   "cell_type": "code",
   "execution_count": 84,
   "metadata": {},
   "outputs": [
    {
     "data": {
      "text/plain": [
       "(561, 2675)"
      ]
     },
     "execution_count": 84,
     "metadata": {},
     "output_type": "execute_result"
    }
   ],
   "source": [
    "X_train.shape"
   ]
  },
  {
   "cell_type": "code",
   "execution_count": 86,
   "metadata": {},
   "outputs": [
    {
     "data": {
      "text/plain": [
       "<1x2675 sparse matrix of type '<class 'numpy.int64'>'\n",
       "\twith 24 stored elements in Compressed Sparse Row format>"
      ]
     },
     "execution_count": 86,
     "metadata": {},
     "output_type": "execute_result"
    }
   ],
   "source": [
    "X_train[0:1,:]"
   ]
  },
  {
   "cell_type": "code",
   "execution_count": 87,
   "metadata": {},
   "outputs": [
    {
     "name": "stdout",
     "output_type": "stream",
     "text": [
      "  (0, 102)\t2\n",
      "  (0, 112)\t1\n",
      "  (0, 116)\t1\n",
      "  (0, 322)\t1\n",
      "  (0, 621)\t1\n",
      "  (0, 863)\t1\n",
      "  (0, 1064)\t1\n",
      "  (0, 1089)\t1\n",
      "  (0, 1154)\t1\n",
      "  (0, 1172)\t1\n",
      "  (0, 1496)\t1\n",
      "  (0, 1514)\t1\n",
      "  (0, 1528)\t1\n",
      "  (0, 1569)\t1\n",
      "  (0, 1571)\t1\n",
      "  (0, 1592)\t1\n",
      "  (0, 1605)\t1\n",
      "  (0, 1961)\t1\n",
      "  (0, 2147)\t1\n",
      "  (0, 2313)\t1\n",
      "  (0, 2333)\t1\n",
      "  (0, 2358)\t1\n",
      "  (0, 2590)\t1\n",
      "  (0, 2645)\t1\n"
     ]
    }
   ],
   "source": [
    "print(X_train[0])"
   ]
  },
  {
   "cell_type": "code",
   "execution_count": 19,
   "metadata": {},
   "outputs": [],
   "source": [
    "#vectorizer.vocabulary_"
   ]
  },
  {
   "cell_type": "code",
   "execution_count": 88,
   "metadata": {},
   "outputs": [
    {
     "name": "stdout",
     "output_type": "stream",
     "text": [
      "Accuracy: 0.7433155080213903\n"
     ]
    }
   ],
   "source": [
    "from sklearn.linear_model import LogisticRegression\n",
    "\n",
    "classifier = LogisticRegression(solver=\"lbfgs\")\n",
    "classifier.fit(X_train, y_train)\n",
    "score_lr = classifier.score(X_test, y_test)\n",
    "\n",
    "print(\"Accuracy:\", score_lr)"
   ]
  },
  {
   "cell_type": "markdown",
   "metadata": {},
   "source": [
    "Caveat: The above model is not the best conceivable benchmark, but a good guess. A TF-IDF approach should improve the results further."
   ]
  },
  {
   "cell_type": "markdown",
   "metadata": {},
   "source": [
    "### 3. Tokenization and Lemmatization"
   ]
  },
  {
   "cell_type": "markdown",
   "metadata": {},
   "source": [
    "Let's see if a model of word similarity and non-linear effects will get us further. We are cheating by also introducing lemmatization to reduce the computational time by reducing the effective number of tokens. "
   ]
  },
  {
   "cell_type": "code",
   "execution_count": 89,
   "metadata": {},
   "outputs": [],
   "source": [
    "lemmatizer = WordNetLemmatizer()"
   ]
  },
  {
   "cell_type": "markdown",
   "metadata": {},
   "source": [
    "The WordNet lemmatizer distinguishes between word types. The following helper function uses nltk to determine the word type and return its abbreviation."
   ]
  },
  {
   "cell_type": "code",
   "execution_count": 91,
   "metadata": {},
   "outputs": [],
   "source": [
    "# Lemmatize with POS Tag\n",
    "from nltk.corpus import wordnet\n",
    "\n",
    "def get_wordnet_pos(word):\n",
    "    \"\"\"Map POS tag to first character lemmatize() accepts\"\"\"\n",
    "    tag = nltk.pos_tag([word])[0][1][0].upper()\n",
    "    tag_dict = {\"J\": wordnet.ADJ,\n",
    "                \"N\": wordnet.NOUN,\n",
    "                \"V\": wordnet.VERB,\n",
    "                \"R\": wordnet.ADV}\n",
    "\n",
    "    return tag_dict.get(tag, wordnet.NOUN)"
   ]
  },
  {
   "cell_type": "code",
   "execution_count": 92,
   "metadata": {},
   "outputs": [
    {
     "data": {
      "text/plain": [
       "['n', 'n', 'v', 'a', 'r']"
      ]
     },
     "execution_count": 92,
     "metadata": {},
     "output_type": "execute_result"
    }
   ],
   "source": [
    "[get_wordnet_pos(x) for x in [\"house\", \"car\", \"go\", \"nice\",\"nicely\"]]"
   ]
  },
  {
   "cell_type": "code",
   "execution_count": 94,
   "metadata": {},
   "outputs": [],
   "source": [
    "def clean_sentences(df):\n",
    "    reviews = []\n",
    "\n",
    "    for sent in df:\n",
    "        \n",
    "        #remove html content\n",
    "        review_text = BeautifulSoup(sent).get_text()\n",
    "        \n",
    "        #remove non-alphabetic characters\n",
    "        review_text = re.sub(\"[^a-zA-Z]\",\" \", review_text)\n",
    "    \n",
    "        #tokenize the sentences\n",
    "        words = word_tokenize(review_text.lower())\n",
    "  \n",
    "        #lemmatize each word to its lemma\n",
    "        lemma_words =[lemmatizer.lemmatize(i, get_wordnet_pos(i)) for i in words]\n",
    "    \n",
    "        reviews.append(lemma_words)\n",
    "\n",
    "    return(reviews)"
   ]
  },
  {
   "cell_type": "code",
   "execution_count": 95,
   "metadata": {},
   "outputs": [
    {
     "name": "stdout",
     "output_type": "stream",
     "text": [
      "748\n"
     ]
    }
   ],
   "source": [
    "#from https://www.kaggle.com/chiranjeevbit/movie-review-prediction\n",
    "import warnings\n",
    "warnings.filterwarnings(\"ignore\", category=UserWarning, module='bs4')\n",
    "\n",
    "train_sentences = clean_sentences(df['sentence'])\n",
    "print(len(train_sentences))#748"
   ]
  },
  {
   "cell_type": "code",
   "execution_count": 96,
   "metadata": {},
   "outputs": [
    {
     "data": {
      "text/plain": [
       "'The Songs Were The Best And The Muppets Were So Hilarious.  '"
      ]
     },
     "execution_count": 96,
     "metadata": {},
     "output_type": "execute_result"
    }
   ],
   "source": [
    "df.sentence[12]"
   ]
  },
  {
   "cell_type": "code",
   "execution_count": 97,
   "metadata": {},
   "outputs": [
    {
     "data": {
      "text/plain": [
       "['the',\n",
       " 'song',\n",
       " 'be',\n",
       " 'the',\n",
       " 'best',\n",
       " 'and',\n",
       " 'the',\n",
       " 'muppets',\n",
       " 'be',\n",
       " 'so',\n",
       " 'hilarious']"
      ]
     },
     "execution_count": 97,
     "metadata": {},
     "output_type": "execute_result"
    }
   ],
   "source": [
    "train_sentences[12]"
   ]
  },
  {
   "cell_type": "code",
   "execution_count": 28,
   "metadata": {},
   "outputs": [
    {
     "name": "stdout",
     "output_type": "stream",
     "text": [
      "['and', 'those', 'baby', 'owl', 'be', 'adorable']\n"
     ]
    }
   ],
   "source": [
    "import pickle\n",
    "\n",
    "# 'wb' specifies 'write (open in binary mode)'\n",
    "# binary mode is important on Win for non-text files\n",
    "with open('review.pkl','wb') as path_name:\n",
    "    pickle.dump(train_sentences, path_name)\n",
    "\n",
    "# 'rb' specifies 'read (open in binary mode)'\n",
    "with open('review.pkl','rb') as path_name:\n",
    "    clean_list = pickle.load(path_name)\n",
    "    print(clean_list[10])\n"
   ]
  },
  {
   "cell_type": "markdown",
   "metadata": {},
   "source": [
    "### 3. w2v embeddings + GRU"
   ]
  },
  {
   "cell_type": "markdown",
   "metadata": {},
   "source": [
    "#### Training word vectors\n"
   ]
  },
  {
   "cell_type": "markdown",
   "metadata": {},
   "source": [
    "We'll use gensim to train the embeddings using Word2Vec in a first step. Why is this helpful? We hope that some of the information that is necessary to predict context words is also helpful for our original task. "
   ]
  },
  {
   "cell_type": "code",
   "execution_count": 98,
   "metadata": {},
   "outputs": [
    {
     "name": "stdout",
     "output_type": "stream",
     "text": [
      "Word2Vec(vocab=2651, size=100, alpha=0.025)\n"
     ]
    }
   ],
   "source": [
    "from gensim.models import Word2Vec    \n",
    "\n",
    "emb=100 # size of embedding dimension\n",
    "\n",
    "# Train a Word2Vec model\n",
    "model = Word2Vec(train_sentences, \n",
    "                 min_count=1,## min_count means the frequency benchmark, if =2 and word is used only once - it's not included\n",
    "                 window=5, #the size of context\n",
    "                 iter =100, #how many times the training code will run through the data set, same as epochs (first pass is to create dict)\n",
    "                 size=emb, #size of embedding\n",
    "                 workers=3)#for parallel computing\n",
    "# summarize the loaded model\n",
    "print(model)\n",
    "words=list(model.wv.vocab)"
   ]
  },
  {
   "cell_type": "code",
   "execution_count": 30,
   "metadata": {},
   "outputs": [
    {
     "name": "stderr",
     "output_type": "stream",
     "text": [
      "/Users/hauptjoh/anaconda/envs/adams/lib/python3.7/site-packages/smart_open/smart_open_lib.py:398: UserWarning: This function is deprecated, use smart_open.open instead. See the migration notes for details: https://github.com/RaRe-Technologies/smart_open/blob/master/README.rst#migrating-to-the-new-open-function\n",
      "  'See the migration notes for details: %s' % _MIGRATION_NOTES_URL\n"
     ]
    }
   ],
   "source": [
    "embs=\"movie_embeddings.txt\"\n",
    "model.wv.save_word2vec_format(embs, binary=False)"
   ]
  },
  {
   "cell_type": "markdown",
   "metadata": {},
   "source": [
    "#### Preparing embeddings for the classifier training\n",
    "We will need to make sure that embeddings constitute a proper 'lookup table' for the use in NN.\n",
    "Inspiration taken from https://blog.keras.io/using-pre-trained-word-embeddings-in-a-keras-model.html"
   ]
  },
  {
   "cell_type": "code",
   "execution_count": 99,
   "metadata": {},
   "outputs": [
    {
     "data": {
      "text/plain": [
       "['not',\n",
       " 'sure',\n",
       " 'who',\n",
       " 'be',\n",
       " 'more',\n",
       " 'lose',\n",
       " 'the',\n",
       " 'flat',\n",
       " 'character',\n",
       " 'or',\n",
       " 'the',\n",
       " 'audience',\n",
       " 'nearly',\n",
       " 'half',\n",
       " 'of',\n",
       " 'whom',\n",
       " 'walk',\n",
       " 'out']"
      ]
     },
     "execution_count": 99,
     "metadata": {},
     "output_type": "execute_result"
    }
   ],
   "source": [
    "train_sentences[1]"
   ]
  },
  {
   "cell_type": "code",
   "execution_count": 100,
   "metadata": {},
   "outputs": [
    {
     "data": {
      "text/plain": [
       "[24, 520, 53, 2, 61, 284, 1, 711, 32, 50, 1, 337, 1099, 285, 5, 712, 521, 48]"
      ]
     },
     "execution_count": 100,
     "metadata": {},
     "output_type": "execute_result"
    }
   ],
   "source": [
    "from keras.preprocessing.text import Tokenizer\n",
    "\n",
    "tokenizer_obj=Tokenizer()\n",
    "tokenizer_obj.fit_on_texts(train_sentences)\n",
    "seq=tokenizer_obj.texts_to_sequences(train_sentences)\n",
    "seq[1]"
   ]
  },
  {
   "cell_type": "code",
   "execution_count": 101,
   "metadata": {},
   "outputs": [
    {
     "name": "stdout",
     "output_type": "stream",
     "text": [
      "1390\n"
     ]
    }
   ],
   "source": [
    "longestsentence=max([len(s.split()) for s in df[\"sentence\"]])\n",
    "print(longestsentence)"
   ]
  },
  {
   "cell_type": "code",
   "execution_count": 102,
   "metadata": {},
   "outputs": [],
   "source": [
    "from keras.preprocessing.sequence import pad_sequences\n",
    "padded=pad_sequences(seq,longestsentence)"
   ]
  },
  {
   "cell_type": "code",
   "execution_count": 103,
   "metadata": {},
   "outputs": [
    {
     "name": "stdout",
     "output_type": "stream",
     "text": [
      "(748, 1390)\n",
      "(748,)\n"
     ]
    }
   ],
   "source": [
    "sentiment=df[\"label\"]\n",
    "print(padded.shape) # 748 reviews, with max length od 1390 tokens\n",
    "print(sentiment.shape)"
   ]
  },
  {
   "cell_type": "code",
   "execution_count": 104,
   "metadata": {},
   "outputs": [],
   "source": [
    "X_train, X_test, y_train, y_test = train_test_split(padded, sentiment, test_size=0.25, random_state=111)"
   ]
  },
  {
   "cell_type": "markdown",
   "metadata": {},
   "source": [
    "Now we can do the mapping to create your lookup table. The critical issue is that the word indices must match between our pretrained embeddings and the model's embedding matrix."
   ]
  },
  {
   "cell_type": "code",
   "execution_count": 105,
   "metadata": {},
   "outputs": [
    {
     "data": {
      "text/plain": [
       "'movie_embeddings.txt'"
      ]
     },
     "execution_count": 105,
     "metadata": {},
     "output_type": "execute_result"
    }
   ],
   "source": [
    "embs"
   ]
  },
  {
   "cell_type": "markdown",
   "metadata": {},
   "source": [
    "The following approach to load the embeddings that we have previously saved as a text file is a little hacky. We the text file in line by line and put them into a dictionary."
   ]
  },
  {
   "cell_type": "markdown",
   "metadata": {},
   "source": [
    "Step by step example: "
   ]
  },
  {
   "cell_type": "code",
   "execution_count": 38,
   "metadata": {},
   "outputs": [],
   "source": [
    "loaded_embs=open(\"movie_embeddings.txt\")"
   ]
  },
  {
   "cell_type": "code",
   "execution_count": 39,
   "metadata": {},
   "outputs": [
    {
     "data": {
      "text/plain": [
       "'2651 100\\n'"
      ]
     },
     "execution_count": 39,
     "metadata": {},
     "output_type": "execute_result"
    }
   ],
   "source": [
    "next(loaded_embs)"
   ]
  },
  {
   "cell_type": "code",
   "execution_count": 40,
   "metadata": {},
   "outputs": [],
   "source": [
    "loaded_embs.close()"
   ]
  },
  {
   "cell_type": "markdown",
   "metadata": {},
   "source": [
    "And for the complete file:"
   ]
  },
  {
   "cell_type": "code",
   "execution_count": 41,
   "metadata": {},
   "outputs": [],
   "source": [
    "embeddings_index={}\n",
    "with open(\"movie_embeddings.txt\") as loaded_embs:\n",
    "    for line in loaded_embs:\n",
    "        values=line.split()\n",
    "        word=values[0]\n",
    "        coefs=np.asarray(values[1:])\n",
    "        embeddings_index[word]=coefs"
   ]
  },
  {
   "cell_type": "code",
   "execution_count": 42,
   "metadata": {},
   "outputs": [
    {
     "data": {
      "text/plain": [
       "array(['0.7002084', '0.91902596', '1.0331162', '-0.36113247',\n",
       "       '-0.6028371', '0.90798396', '-0.37949166', '-0.8602604',\n",
       "       '0.40564546', '0.25128397', '-0.15228094', '0.83823264',\n",
       "       '-0.30462024', '-1.1524318', '0.3633499', '0.040245138',\n",
       "       '-0.32323387', '0.5324815', '-0.055528942', '0.4812467',\n",
       "       '0.1748874', '0.28951162', '0.8733927', '-1.3366427',\n",
       "       '0.0033434748', '0.09219933', '0.64927876', '-0.22890049',\n",
       "       '-0.8652936', '0.38316628', '-0.39808464', '-1.0970116',\n",
       "       '1.0841267', '-0.50362027', '-0.21924332', '0.070360355',\n",
       "       '-0.63640505', '0.9530211', '-0.7131159', '-0.118773974',\n",
       "       '-1.104995', '-0.038863186', '0.45446792', '0.8166238',\n",
       "       '0.25114492', '1.1627884', '0.9582804', '-0.68942237',\n",
       "       '-0.5757062', '-0.61781967', '-0.7815124', '-0.87729895',\n",
       "       '-0.068175495', '-0.67342544', '-0.18095785', '0.1501756',\n",
       "       '-0.62858075', '0.3855334', '0.57831705', '0.16358326',\n",
       "       '0.5250392', '-0.04555469', '-0.6073205', '-0.4676984',\n",
       "       '-0.13797167', '-0.91083884', '-0.22987533', '-0.7594901',\n",
       "       '-0.794383', '0.59473306', '0.80479765', '0.40879774', '0.8660637',\n",
       "       '-0.34633934', '-1.8541645', '0.020034632', '-0.25469673',\n",
       "       '0.84456915', '-0.96957', '-0.71159476', '1.2293938', '0.96181905',\n",
       "       '0.91050804', '-1.2934444', '-1.0331782', '-0.09192932',\n",
       "       '1.3865695', '0.11011071', '0.3917344', '-0.77683866', '2.018735',\n",
       "       '-0.23567095', '1.1300104', '0.47032964', '0.6941815',\n",
       "       '-0.43869808', '0.75850034', '-1.2273223', '-0.37423885',\n",
       "       '-0.1626314'], dtype='<U12')"
      ]
     },
     "execution_count": 42,
     "metadata": {},
     "output_type": "execute_result"
    }
   ],
   "source": [
    "embeddings_index[\"movie\"]"
   ]
  },
  {
   "cell_type": "markdown",
   "metadata": {},
   "source": [
    "Since we are not working with the original words but their indices, we need to be careful to preserve the original mapping from words to integer indices."
   ]
  },
  {
   "cell_type": "code",
   "execution_count": 43,
   "metadata": {},
   "outputs": [
    {
     "data": {
      "text/plain": [
       "2651"
      ]
     },
     "execution_count": 43,
     "metadata": {},
     "output_type": "execute_result"
    }
   ],
   "source": [
    "word_index=tokenizer_obj.word_index\n",
    "# here is the size of vocab/number of unique tokens\n",
    "len(word_index)#2651"
   ]
  },
  {
   "cell_type": "code",
   "execution_count": 44,
   "metadata": {},
   "outputs": [],
   "source": [
    "num_words=len(word_index)+1\n",
    "embedding_matrix=np.zeros((num_words, emb))"
   ]
  },
  {
   "cell_type": "code",
   "execution_count": 45,
   "metadata": {},
   "outputs": [
    {
     "name": "stdout",
     "output_type": "stream",
     "text": [
      "(2652, 100)\n",
      "2652\n"
     ]
    }
   ],
   "source": [
    "for word, i in word_index.items():\n",
    "    if i > num_words:\n",
    "        continue\n",
    "    embedding_vector=embeddings_index[word]\n",
    "    #dealing with words that we have not embeddings for\n",
    "    if embedding_vector is not None:\n",
    "        embedding_matrix[i]=embedding_vector\n",
    "#embedding_matrix is our lookup table\n",
    "print(embedding_matrix.shape)\n",
    "print(num_words)"
   ]
  },
  {
   "cell_type": "markdown",
   "metadata": {},
   "source": [
    "#### Setting up and training the classifier network"
   ]
  },
  {
   "cell_type": "code",
   "execution_count": 46,
   "metadata": {},
   "outputs": [],
   "source": [
    "epochs=25"
   ]
  },
  {
   "cell_type": "code",
   "execution_count": 106,
   "metadata": {},
   "outputs": [
    {
     "name": "stdout",
     "output_type": "stream",
     "text": [
      "_________________________________________________________________\n",
      "Layer (type)                 Output Shape              Param #   \n",
      "=================================================================\n",
      "embedding_5 (Embedding)      (None, 1390, 100)         265200    \n",
      "_________________________________________________________________\n",
      "gru_5 (GRU)                  (None, 16)                5616      \n",
      "_________________________________________________________________\n",
      "dense_4 (Dense)              (None, 1)                 17        \n",
      "=================================================================\n",
      "Total params: 270,833\n",
      "Trainable params: 5,633\n",
      "Non-trainable params: 265,200\n",
      "_________________________________________________________________\n"
     ]
    }
   ],
   "source": [
    "embedding_layer=Embedding(num_words, #size of vocab\n",
    "                          emb, #size of embedding \n",
    "                          embeddings_initializer=Constant(embedding_matrix), #weights to start with, and not touch during training\n",
    "                          input_length=longestsentence, \n",
    "                          trainable=False  # do no update these weights\n",
    "                         )\n",
    "\n",
    "model=Sequential()                        \n",
    "model.add(embedding_layer)\n",
    "model.add(GRU(16))\n",
    "model.add(Dense(1, activation=\"sigmoid\"))\n",
    "model.compile(loss=\"binary_crossentropy\", optimizer=\"adam\", metrics=[\"accuracy\"])\n",
    "model.summary()"
   ]
  },
  {
   "cell_type": "code",
   "execution_count": 48,
   "metadata": {},
   "outputs": [
    {
     "name": "stdout",
     "output_type": "stream",
     "text": [
      "WARNING:tensorflow:From /Users/hauptjoh/anaconda/envs/adams/lib/python3.7/site-packages/tensorflow/python/ops/math_ops.py:3066: to_int32 (from tensorflow.python.ops.math_ops) is deprecated and will be removed in a future version.\n",
      "Instructions for updating:\n",
      "Use tf.cast instead.\n",
      "Train on 392 samples, validate on 169 samples\n",
      "Epoch 1/25\n",
      "392/392 [==============================] - 11s 29ms/step - loss: 0.7201 - acc: 0.4872 - val_loss: 0.6908 - val_acc: 0.5325\n",
      "Epoch 2/25\n",
      "392/392 [==============================] - 8s 21ms/step - loss: 0.6907 - acc: 0.5510 - val_loss: 0.6744 - val_acc: 0.6154\n",
      "Epoch 3/25\n",
      "392/392 [==============================] - 8s 20ms/step - loss: 0.6710 - acc: 0.5842 - val_loss: 0.6571 - val_acc: 0.6213\n",
      "Epoch 4/25\n",
      "392/392 [==============================] - 8s 20ms/step - loss: 0.6560 - acc: 0.6122 - val_loss: 0.6439 - val_acc: 0.6154\n",
      "Epoch 5/25\n",
      "392/392 [==============================] - 8s 21ms/step - loss: 0.6441 - acc: 0.6327 - val_loss: 0.6331 - val_acc: 0.6331\n",
      "Epoch 6/25\n",
      "392/392 [==============================] - 8s 20ms/step - loss: 0.6361 - acc: 0.6327 - val_loss: 0.6227 - val_acc: 0.6686\n",
      "Epoch 7/25\n",
      "392/392 [==============================] - 8s 22ms/step - loss: 0.6269 - acc: 0.6378 - val_loss: 0.6159 - val_acc: 0.6686\n",
      "Epoch 8/25\n",
      "392/392 [==============================] - 8s 20ms/step - loss: 0.6179 - acc: 0.6582 - val_loss: 0.6104 - val_acc: 0.6864\n",
      "Epoch 9/25\n",
      "392/392 [==============================] - 8s 20ms/step - loss: 0.6120 - acc: 0.6633 - val_loss: 0.6066 - val_acc: 0.6982\n",
      "Epoch 10/25\n",
      "392/392 [==============================] - 8s 21ms/step - loss: 0.6034 - acc: 0.6888 - val_loss: 0.6007 - val_acc: 0.6923\n",
      "Epoch 11/25\n",
      "392/392 [==============================] - 8s 21ms/step - loss: 0.5947 - acc: 0.7015 - val_loss: 0.5957 - val_acc: 0.6746\n",
      "Epoch 12/25\n",
      "392/392 [==============================] - 8s 22ms/step - loss: 0.5871 - acc: 0.7168 - val_loss: 0.5901 - val_acc: 0.6805\n",
      "Epoch 13/25\n",
      "392/392 [==============================] - 8s 21ms/step - loss: 0.5788 - acc: 0.7092 - val_loss: 0.5831 - val_acc: 0.6627\n",
      "Epoch 14/25\n",
      "392/392 [==============================] - 8s 21ms/step - loss: 0.5704 - acc: 0.7168 - val_loss: 0.5778 - val_acc: 0.7101\n",
      "Epoch 15/25\n",
      "392/392 [==============================] - 9s 22ms/step - loss: 0.5626 - acc: 0.7270 - val_loss: 0.5754 - val_acc: 0.7278\n",
      "Epoch 16/25\n",
      "392/392 [==============================] - 9s 22ms/step - loss: 0.5549 - acc: 0.7398 - val_loss: 0.5712 - val_acc: 0.7219\n",
      "Epoch 17/25\n",
      "392/392 [==============================] - 8s 21ms/step - loss: 0.5445 - acc: 0.7551 - val_loss: 0.5586 - val_acc: 0.7101\n",
      "Epoch 18/25\n",
      "392/392 [==============================] - 8s 21ms/step - loss: 0.5362 - acc: 0.7474 - val_loss: 0.5553 - val_acc: 0.7219\n",
      "Epoch 19/25\n",
      "392/392 [==============================] - 8s 21ms/step - loss: 0.5263 - acc: 0.7551 - val_loss: 0.5520 - val_acc: 0.7219\n",
      "Epoch 20/25\n",
      "392/392 [==============================] - 8s 21ms/step - loss: 0.5163 - acc: 0.7653 - val_loss: 0.5479 - val_acc: 0.7337\n",
      "Epoch 21/25\n",
      "392/392 [==============================] - 8s 21ms/step - loss: 0.5074 - acc: 0.7781 - val_loss: 0.5504 - val_acc: 0.7456\n",
      "Epoch 22/25\n",
      "392/392 [==============================] - 8s 20ms/step - loss: 0.4969 - acc: 0.7755 - val_loss: 0.5551 - val_acc: 0.7101\n",
      "Epoch 23/25\n",
      "392/392 [==============================] - 8s 20ms/step - loss: 0.4902 - acc: 0.7832 - val_loss: 0.5495 - val_acc: 0.7278\n",
      "Epoch 24/25\n",
      "392/392 [==============================] - 8s 21ms/step - loss: 0.4828 - acc: 0.7908 - val_loss: 0.5478 - val_acc: 0.7278\n",
      "Epoch 25/25\n",
      "392/392 [==============================] - 8s 21ms/step - loss: 0.4748 - acc: 0.7857 - val_loss: 0.5575 - val_acc: 0.6864\n"
     ]
    }
   ],
   "source": [
    "history=model.fit(X_train,y_train, batch_size=64, epochs=epochs, validation_split=0.3, shuffle=True, verbose=1)"
   ]
  },
  {
   "cell_type": "code",
   "execution_count": 49,
   "metadata": {},
   "outputs": [
    {
     "data": {
      "image/png": "[encoded data removed]",
      "text/plain": [
       "<Figure size 432x288 with 1 Axes>"
      ]
     },
     "metadata": {
      "needs_background": "light"
     },
     "output_type": "display_data"
    }
   ],
   "source": [
    "plt.plot(history.history['acc'])\n",
    "plt.plot(history.history['val_acc'])\n",
    "plt.title('model accuracy')\n",
    "plt.ylabel('accuracy')\n",
    "plt.xlabel('epoch')\n",
    "plt.legend(['train', 'validation'], loc='upper left')\n",
    "plt.show()"
   ]
  },
  {
   "cell_type": "code",
   "execution_count": 50,
   "metadata": {},
   "outputs": [
    {
     "name": "stdout",
     "output_type": "stream",
     "text": [
      "Test loss: 0.6003967580948284\n",
      "Test accuracy: 0.6791443869391864\n"
     ]
    }
   ],
   "source": [
    "model.save_weights(\"ex11-GRU_word2vec_reviews.h5\")\n",
    "#print(\"Saved model to disk\")\n",
    "\n",
    "#model.load_weights(\"ex11-GRU_word2vec_reviews.h5\")\n",
    "#print(\"Loaded model from disk\")\n",
    "\n",
    "scores={}\n",
    "score_emb = model.evaluate(X_test, y_test, verbose=0)\n",
    "scores[\"GRU_word2vec_reviews\"] = score_emb\n",
    "print('Test loss:', score_emb[0])\n",
    "print('Test accuracy:', score_emb[1])\n"
   ]
  },
  {
   "cell_type": "markdown",
   "metadata": {},
   "source": [
    "#### Finetuning the model"
   ]
  },
  {
   "cell_type": "markdown",
   "metadata": {},
   "source": [
    "Let's try to do proper finetuning by transfering the GRU weights."
   ]
  },
  {
   "cell_type": "code",
   "execution_count": 51,
   "metadata": {},
   "outputs": [],
   "source": [
    "GRUw = model.layers[1].get_weights()\n",
    "#install tf-nightly"
   ]
  },
  {
   "cell_type": "code",
   "execution_count": 52,
   "metadata": {},
   "outputs": [
    {
     "name": "stdout",
     "output_type": "stream",
     "text": [
      "_________________________________________________________________\n",
      "Layer (type)                 Output Shape              Param #   \n",
      "=================================================================\n",
      "embedding_2 (Embedding)      (None, 1390, 100)         265200    \n",
      "_________________________________________________________________\n",
      "gru_2 (GRU)                  (None, 16)                5616      \n",
      "_________________________________________________________________\n",
      "dense_2 (Dense)              (None, 1)                 17        \n",
      "=================================================================\n",
      "Total params: 270,833\n",
      "Trainable params: 270,833\n",
      "Non-trainable params: 0\n",
      "_________________________________________________________________\n"
     ]
    }
   ],
   "source": [
    "model2=Sequential()\n",
    "embedding_layer=Embedding(num_words, #size of vocab\n",
    "                         emb, #size of embedding \n",
    "                         embeddings_initializer=Constant(embedding_matrix), #weights to start with, and not nouch during training\n",
    "                         input_length=longestsentence, \n",
    "                         trainable=True  \n",
    "                         )\n",
    "model2.add(embedding_layer)\n",
    "#model2.add(Dropout(0.2))\n",
    "model2.add(GRU(16, weights=GRUw)) #  dropout=0.1, recurrent_dropout=0.1, for recurring unit and recurrant state\n",
    "model2.add(Dense(1, activation=\"sigmoid\"))\n",
    "model2.compile(loss=\"binary_crossentropy\", optimizer=\"adam\", metrics=[\"accuracy\"])\n",
    "model2.summary()"
   ]
  },
  {
   "cell_type": "code",
   "execution_count": 53,
   "metadata": {},
   "outputs": [
    {
     "name": "stdout",
     "output_type": "stream",
     "text": [
      "Train on 448 samples, validate on 113 samples\n",
      "Epoch 1/25\n",
      "448/448 [==============================] - 10s 21ms/step - loss: 0.7644 - acc: 0.3192 - val_loss: 0.7128 - val_acc: 0.4956\n",
      "Epoch 2/25\n",
      "448/448 [==============================] - 9s 19ms/step - loss: 0.6966 - acc: 0.5089 - val_loss: 0.6818 - val_acc: 0.5487\n",
      "Epoch 3/25\n",
      "448/448 [==============================] - 8s 19ms/step - loss: 0.6538 - acc: 0.6429 - val_loss: 0.6614 - val_acc: 0.5841\n",
      "Epoch 4/25\n",
      "448/448 [==============================] - 8s 18ms/step - loss: 0.6220 - acc: 0.7210 - val_loss: 0.6461 - val_acc: 0.6106\n",
      "Epoch 5/25\n",
      "448/448 [==============================] - 8s 18ms/step - loss: 0.5948 - acc: 0.7478 - val_loss: 0.6368 - val_acc: 0.6106\n",
      "Epoch 6/25\n",
      "448/448 [==============================] - 8s 18ms/step - loss: 0.5675 - acc: 0.7746 - val_loss: 0.6298 - val_acc: 0.6106\n",
      "Epoch 7/25\n",
      "448/448 [==============================] - 9s 19ms/step - loss: 0.5430 - acc: 0.7835 - val_loss: 0.6186 - val_acc: 0.6283\n",
      "Epoch 8/25\n",
      "448/448 [==============================] - 8s 19ms/step - loss: 0.5168 - acc: 0.8013 - val_loss: 0.6096 - val_acc: 0.6372\n",
      "Epoch 9/25\n",
      "448/448 [==============================] - 9s 19ms/step - loss: 0.4894 - acc: 0.8371 - val_loss: 0.5974 - val_acc: 0.6637\n",
      "Epoch 10/25\n",
      "448/448 [==============================] - 9s 19ms/step - loss: 0.4613 - acc: 0.8438 - val_loss: 0.5911 - val_acc: 0.6549\n",
      "Epoch 11/25\n",
      "448/448 [==============================] - 8s 18ms/step - loss: 0.4295 - acc: 0.8616 - val_loss: 0.5800 - val_acc: 0.6903\n",
      "Epoch 12/25\n",
      "448/448 [==============================] - 8s 18ms/step - loss: 0.3968 - acc: 0.8638 - val_loss: 0.5716 - val_acc: 0.7080\n",
      "Epoch 13/25\n",
      "448/448 [==============================] - 8s 19ms/step - loss: 0.3624 - acc: 0.8884 - val_loss: 0.5641 - val_acc: 0.6991\n",
      "Epoch 14/25\n",
      "448/448 [==============================] - 8s 18ms/step - loss: 0.3277 - acc: 0.9085 - val_loss: 0.5525 - val_acc: 0.6814\n",
      "Epoch 15/25\n",
      "448/448 [==============================] - 8s 18ms/step - loss: 0.2903 - acc: 0.9196 - val_loss: 0.5475 - val_acc: 0.6814\n",
      "Epoch 16/25\n",
      "448/448 [==============================] - 8s 19ms/step - loss: 0.2595 - acc: 0.9375 - val_loss: 0.5325 - val_acc: 0.6903\n",
      "Epoch 17/25\n",
      "448/448 [==============================] - 8s 19ms/step - loss: 0.2254 - acc: 0.9554 - val_loss: 0.5321 - val_acc: 0.6991\n",
      "Epoch 18/25\n",
      "448/448 [==============================] - 8s 19ms/step - loss: 0.1980 - acc: 0.9688 - val_loss: 0.5245 - val_acc: 0.7168\n",
      "Epoch 19/25\n",
      "448/448 [==============================] - 8s 18ms/step - loss: 0.1730 - acc: 0.9754 - val_loss: 0.5518 - val_acc: 0.7168\n",
      "Epoch 20/25\n",
      "448/448 [==============================] - 9s 19ms/step - loss: 0.1520 - acc: 0.9799 - val_loss: 0.5223 - val_acc: 0.7522\n",
      "Epoch 21/25\n",
      "448/448 [==============================] - 8s 19ms/step - loss: 0.1317 - acc: 0.9799 - val_loss: 0.5478 - val_acc: 0.7168\n",
      "Epoch 22/25\n",
      "448/448 [==============================] - 9s 20ms/step - loss: 0.1151 - acc: 0.9821 - val_loss: 0.5226 - val_acc: 0.7611\n",
      "Epoch 23/25\n",
      "448/448 [==============================] - 8s 19ms/step - loss: 0.1042 - acc: 0.9844 - val_loss: 0.5388 - val_acc: 0.7522\n",
      "Epoch 24/25\n",
      "448/448 [==============================] - 8s 19ms/step - loss: 0.0922 - acc: 0.9844 - val_loss: 0.6676 - val_acc: 0.6814\n",
      "Epoch 25/25\n",
      "448/448 [==============================] - 9s 20ms/step - loss: 0.0832 - acc: 0.9911 - val_loss: 0.5476 - val_acc: 0.7611\n"
     ]
    }
   ],
   "source": [
    "history2=model2.fit(X_train,y_train, batch_size=64, epochs=epochs, validation_split=0.2, verbose=1)"
   ]
  },
  {
   "cell_type": "code",
   "execution_count": 54,
   "metadata": {},
   "outputs": [],
   "source": [
    "#model2=loaded_model.load_weights(\"ex11-GRU_word2vec_reviews_finetuning.h5\")\n",
    "#print(\"Loaded model from disk\")"
   ]
  },
  {
   "cell_type": "code",
   "execution_count": 55,
   "metadata": {},
   "outputs": [
    {
     "name": "stdout",
     "output_type": "stream",
     "text": [
      "Test loss: 0.5804643240523211\n",
      "Test accuracy: 0.7754010672875267\n"
     ]
    }
   ],
   "source": [
    "score_fine_proper = model2.evaluate(X_test, y_test, verbose=0)\n",
    "scores[\"GRU_word2vec_reviews_finetuned\"] = score_fine_proper\n",
    "print('Test loss:', score_fine_proper[0])\n",
    "print('Test accuracy:', score_fine_proper[1])"
   ]
  },
  {
   "cell_type": "code",
   "execution_count": 56,
   "metadata": {},
   "outputs": [
    {
     "data": {
      "image/png": "[encoded data removed]",
      "text/plain": [
       "<Figure size 432x288 with 1 Axes>"
      ]
     },
     "metadata": {
      "needs_background": "light"
     },
     "output_type": "display_data"
    }
   ],
   "source": [
    "plt.plot(history2.history['acc'])\n",
    "plt.plot(history2.history['val_acc'])\n",
    "plt.title('model accuracy')\n",
    "plt.ylabel('accuracy')\n",
    "plt.xlabel('epoch')\n",
    "plt.legend(['train', 'validation'], loc='upper left')\n",
    "plt.show()"
   ]
  },
  {
   "cell_type": "code",
   "execution_count": 57,
   "metadata": {},
   "outputs": [
    {
     "name": "stdout",
     "output_type": "stream",
     "text": [
      "Saved model to disk\n"
     ]
    }
   ],
   "source": [
    "model2.save_weights(\"ex11-GRU_word2vec_reviews_finetuning.h5\")\n",
    "print(\"Saved model to disk\")"
   ]
  },
  {
   "cell_type": "markdown",
   "metadata": {},
   "source": [
    "### Loading pretrained weights\n",
    "Building your own embeddings might not be the smartest thing. In case the vocabulary you will be working with is not too specific, you can always use the pretrained embeddings. GloVe stands for \"Global Vectors for Word Representation\". It's a somewhat popular embedding technique based on factorizing a matrix of word co-occurence statistics (https://nlp.stanford.edu/projects/glove/). Often you get to choose the length of pretrained embeddings, we will stick to 100."
   ]
  },
  {
   "cell_type": "markdown",
   "metadata": {},
   "source": [
    "The emebddings that we use here have been trained on Wikipedia articles."
   ]
  },
  {
   "cell_type": "code",
   "execution_count": 58,
   "metadata": {},
   "outputs": [
    {
     "name": "stdout",
     "output_type": "stream",
     "text": [
      "Found 400000 word vectors.\n"
     ]
    }
   ],
   "source": [
    "embeddings_index = {}\n",
    "with open('/Users/hauptjoh/Downloads/glove.6B/glove.6B.100d.txt', 'r') as f:\n",
    "    for line in f:\n",
    "        values = line.split()\n",
    "        word = values[0]\n",
    "        coefs = np.asarray(values[1:], dtype='float32')\n",
    "        embeddings_index[word] = coefs\n",
    "\n",
    "print('Found %s word vectors.' % len(embeddings_index))"
   ]
  },
  {
   "cell_type": "markdown",
   "metadata": {},
   "source": [
    "Apart from being careful to adjust the word indices, there will be words in new data that we haven't seen. Here we include an all-zero embedding for these, but it may be better to learn a proper embedding for an UNKNOWN/RARE token. "
   ]
  },
  {
   "cell_type": "code",
   "execution_count": 59,
   "metadata": {},
   "outputs": [],
   "source": [
    "gloved = np.zeros((len(word_index) + 1, emb))\n",
    "for word, i in word_index.items():\n",
    "    embedding_vector = embeddings_index.get(word)\n",
    "    if embedding_vector is not None:\n",
    "        # CAREFUL: Words not found in embedding index will be all-zeros.\n",
    "        gloved[i] = embedding_vector"
   ]
  },
  {
   "cell_type": "code",
   "execution_count": 60,
   "metadata": {},
   "outputs": [],
   "source": [
    "embedding_layer2 = Embedding(num_words,\n",
    "                            emb,\n",
    "                            weights=[gloved],\n",
    "                            input_length=longestsentence,\n",
    "                            trainable=False)"
   ]
  },
  {
   "cell_type": "code",
   "execution_count": 61,
   "metadata": {},
   "outputs": [
    {
     "name": "stdout",
     "output_type": "stream",
     "text": [
      "_________________________________________________________________\n",
      "Layer (type)                 Output Shape              Param #   \n",
      "=================================================================\n",
      "embedding_3 (Embedding)      (None, 1390, 100)         265200    \n",
      "_________________________________________________________________\n",
      "gru_3 (GRU)                  (None, 16)                5616      \n",
      "_________________________________________________________________\n",
      "dense_3 (Dense)              (None, 1)                 17        \n",
      "=================================================================\n",
      "Total params: 270,833\n",
      "Trainable params: 5,633\n",
      "Non-trainable params: 265,200\n",
      "_________________________________________________________________\n",
      "Train on 448 samples, validate on 113 samples\n",
      "Epoch 1/25\n",
      "448/448 [==============================] - 9s 21ms/step - loss: 0.7065 - acc: 0.5580 - val_loss: 0.6980 - val_acc: 0.5310\n",
      "Epoch 2/25\n",
      "448/448 [==============================] - 8s 17ms/step - loss: 0.6820 - acc: 0.5714 - val_loss: 0.6837 - val_acc: 0.5664\n",
      "Epoch 3/25\n",
      "448/448 [==============================] - 8s 17ms/step - loss: 0.6676 - acc: 0.5893 - val_loss: 0.6724 - val_acc: 0.5752\n",
      "Epoch 4/25\n",
      "448/448 [==============================] - 8s 18ms/step - loss: 0.6545 - acc: 0.6183 - val_loss: 0.6670 - val_acc: 0.5664\n",
      "Epoch 5/25\n",
      "448/448 [==============================] - 8s 18ms/step - loss: 0.6417 - acc: 0.6384 - val_loss: 0.6547 - val_acc: 0.6018\n",
      "Epoch 6/25\n",
      "448/448 [==============================] - 8s 18ms/step - loss: 0.6308 - acc: 0.6540 - val_loss: 0.6452 - val_acc: 0.6283\n",
      "Epoch 7/25\n",
      "448/448 [==============================] - 7s 16ms/step - loss: 0.6208 - acc: 0.6629 - val_loss: 0.6409 - val_acc: 0.6106\n",
      "Epoch 8/25\n",
      "448/448 [==============================] - 8s 18ms/step - loss: 0.6088 - acc: 0.6920 - val_loss: 0.6311 - val_acc: 0.6460\n",
      "Epoch 9/25\n",
      "448/448 [==============================] - 8s 18ms/step - loss: 0.5987 - acc: 0.6897 - val_loss: 0.6210 - val_acc: 0.6637\n",
      "Epoch 10/25\n",
      "448/448 [==============================] - 8s 18ms/step - loss: 0.5877 - acc: 0.7054 - val_loss: 0.6136 - val_acc: 0.6726\n",
      "Epoch 11/25\n",
      "448/448 [==============================] - 8s 18ms/step - loss: 0.5760 - acc: 0.7254 - val_loss: 0.6086 - val_acc: 0.6726\n",
      "Epoch 12/25\n",
      "448/448 [==============================] - 9s 19ms/step - loss: 0.5650 - acc: 0.7299 - val_loss: 0.6005 - val_acc: 0.6814\n",
      "Epoch 13/25\n",
      "448/448 [==============================] - 23s 52ms/step - loss: 0.5513 - acc: 0.7478 - val_loss: 0.5874 - val_acc: 0.6814\n",
      "Epoch 14/25\n",
      "448/448 [==============================] - 26s 57ms/step - loss: 0.5370 - acc: 0.7589 - val_loss: 0.5759 - val_acc: 0.6637\n",
      "Epoch 15/25\n",
      "448/448 [==============================] - 23s 51ms/step - loss: 0.5197 - acc: 0.7768 - val_loss: 0.5658 - val_acc: 0.7080\n",
      "Epoch 16/25\n",
      "448/448 [==============================] - 29s 65ms/step - loss: 0.4985 - acc: 0.7768 - val_loss: 0.5451 - val_acc: 0.7080\n",
      "Epoch 17/25\n",
      "448/448 [==============================] - 35s 79ms/step - loss: 0.4722 - acc: 0.7991 - val_loss: 0.5258 - val_acc: 0.7345\n",
      "Epoch 18/25\n",
      "448/448 [==============================] - 66s 148ms/step - loss: 0.4460 - acc: 0.8036 - val_loss: 0.4984 - val_acc: 0.7522\n",
      "Epoch 19/25\n",
      "448/448 [==============================] - 65s 144ms/step - loss: 0.4183 - acc: 0.8237 - val_loss: 0.4756 - val_acc: 0.7699\n",
      "Epoch 20/25\n",
      "448/448 [==============================] - 48s 107ms/step - loss: 0.3920 - acc: 0.8438 - val_loss: 0.4632 - val_acc: 0.7699\n",
      "Epoch 21/25\n",
      "448/448 [==============================] - 44s 98ms/step - loss: 0.3588 - acc: 0.8616 - val_loss: 0.4787 - val_acc: 0.7611\n",
      "Epoch 22/25\n",
      "448/448 [==============================] - 41s 91ms/step - loss: 0.3536 - acc: 0.8527 - val_loss: 0.4707 - val_acc: 0.7522\n",
      "Epoch 23/25\n",
      "448/448 [==============================] - 38s 85ms/step - loss: 0.3482 - acc: 0.8638 - val_loss: 0.4248 - val_acc: 0.7788\n",
      "Epoch 24/25\n",
      "448/448 [==============================] - 43s 95ms/step - loss: 0.3196 - acc: 0.8795 - val_loss: 0.4614 - val_acc: 0.7699\n",
      "Epoch 25/25\n",
      "448/448 [==============================] - 40s 88ms/step - loss: 0.3212 - acc: 0.8750 - val_loss: 0.4043 - val_acc: 0.7876\n"
     ]
    }
   ],
   "source": [
    "model3=Sequential()\n",
    "model3.add(embedding_layer2)\n",
    "#model3.add(Dropout(0.25))\n",
    "model3.add(GRU(16))\n",
    "#model3.add(Dropout(0.25))\n",
    "model3.add(Dense(1, activation=\"sigmoid\"))\n",
    "model3.compile(loss=\"binary_crossentropy\", optimizer=\"adam\", metrics=[\"accuracy\"])\n",
    "model3.summary()\n",
    "\n",
    "history3=model3.fit(X_train,y_train, batch_size=64, epochs=epochs, validation_split=0.2, verbose=1)"
   ]
  },
  {
   "cell_type": "code",
   "execution_count": 62,
   "metadata": {},
   "outputs": [
    {
     "name": "stdout",
     "output_type": "stream",
     "text": [
      "Test loss: 0.4154591730890427\n",
      "Test accuracy: 0.8128342255551547\n"
     ]
    }
   ],
   "source": [
    "score_gl = model3.evaluate(X_test, y_test, verbose=0)\n",
    "scores[\"GRU_glove_wikipedia\"] = score_gl\n",
    "print('Test loss:', score_gl[0])\n",
    "print('Test accuracy:', score_gl[1])"
   ]
  },
  {
   "cell_type": "code",
   "execution_count": 63,
   "metadata": {},
   "outputs": [],
   "source": [
    "#0.83"
   ]
  },
  {
   "cell_type": "markdown",
   "metadata": {},
   "source": [
    "Let's see if fine-tuning will help us (allow model to keep changing the embeddings)"
   ]
  },
  {
   "cell_type": "code",
   "execution_count": 108,
   "metadata": {},
   "outputs": [
    {
     "name": "stdout",
     "output_type": "stream",
     "text": [
      "_________________________________________________________________\n",
      "Layer (type)                 Output Shape              Param #   \n",
      "=================================================================\n",
      "embedding_6 (Embedding)      (None, 1390, 100)         265200    \n",
      "_________________________________________________________________\n",
      "gru_6 (GRU)                  (None, 16)                5616      \n",
      "_________________________________________________________________\n",
      "dense_5 (Dense)              (None, 1)                 17        \n",
      "=================================================================\n",
      "Total params: 270,833\n",
      "Trainable params: 270,833\n",
      "Non-trainable params: 0\n",
      "_________________________________________________________________\n"
     ]
    }
   ],
   "source": [
    "GRUglo= model3.layers[1].get_weights()\n",
    "embedding_layer4 = Embedding(num_words,\n",
    "                            emb,\n",
    "                            weights=[gloved],\n",
    "                            input_length=longestsentence,\n",
    "                            trainable=True)\n",
    "model4=Sequential()\n",
    "model4.add(embedding_layer4)\n",
    "model4.add(GRU(16, weights=GRUglo))#, dropout=0.1, recurrent_dropout=0.1 ))\n",
    "#model4.add(Dropout(0.25))\n",
    "model4.add(Dense(1, activation=\"sigmoid\"))\n",
    "model4.compile(loss=\"binary_crossentropy\", optimizer=\"adam\", metrics=[\"accuracy\"])\n",
    "model4.summary()"
   ]
  },
  {
   "cell_type": "code",
   "execution_count": 109,
   "metadata": {},
   "outputs": [],
   "source": [
    "#model4.load_weights(\"ex11-GRU_GloVe.h5\")"
   ]
  },
  {
   "cell_type": "code",
   "execution_count": 110,
   "metadata": {},
   "outputs": [
    {
     "name": "stdout",
     "output_type": "stream",
     "text": [
      "Train on 448 samples, validate on 113 samples\n",
      "Epoch 1/10\n",
      "448/448 [==============================] - 10s 23ms/step - loss: 0.7255 - acc: 0.4732 - val_loss: 0.7257 - val_acc: 0.4867\n",
      "Epoch 2/10\n",
      "448/448 [==============================] - 9s 20ms/step - loss: 0.6280 - acc: 0.6295 - val_loss: 0.6781 - val_acc: 0.6018\n",
      "Epoch 3/10\n",
      "448/448 [==============================] - 8s 19ms/step - loss: 0.5563 - acc: 0.7500 - val_loss: 0.6243 - val_acc: 0.6460\n",
      "Epoch 4/10\n",
      "448/448 [==============================] - 9s 20ms/step - loss: 0.4910 - acc: 0.8326 - val_loss: 0.5869 - val_acc: 0.6903\n",
      "Epoch 5/10\n",
      "448/448 [==============================] - 9s 21ms/step - loss: 0.4329 - acc: 0.8705 - val_loss: 0.5482 - val_acc: 0.7168\n",
      "Epoch 6/10\n",
      "448/448 [==============================] - 9s 20ms/step - loss: 0.3799 - acc: 0.8996 - val_loss: 0.5146 - val_acc: 0.7611\n",
      "Epoch 7/10\n",
      "448/448 [==============================] - 9s 20ms/step - loss: 0.3318 - acc: 0.9375 - val_loss: 0.5272 - val_acc: 0.7168\n",
      "Epoch 8/10\n",
      "448/448 [==============================] - 9s 20ms/step - loss: 0.2960 - acc: 0.9330 - val_loss: 0.4782 - val_acc: 0.7699\n",
      "Epoch 9/10\n",
      "448/448 [==============================] - 9s 19ms/step - loss: 0.2522 - acc: 0.9621 - val_loss: 0.4845 - val_acc: 0.7788\n",
      "Epoch 10/10\n",
      "448/448 [==============================] - 9s 20ms/step - loss: 0.2244 - acc: 0.9643 - val_loss: 0.4586 - val_acc: 0.7699\n"
     ]
    }
   ],
   "source": [
    "history4 = model4.fit(X_train,y_train, batch_size=64, epochs=10, validation_split=0.2, verbose=1)"
   ]
  },
  {
   "cell_type": "code",
   "execution_count": 111,
   "metadata": {},
   "outputs": [
    {
     "name": "stdout",
     "output_type": "stream",
     "text": [
      "Test loss: 0.45590559429025906\n",
      "Test accuracy: 0.8181818191380424\n"
     ]
    }
   ],
   "source": [
    "score_glfine = model4.evaluate(X_test, y_test, verbose=0)\n",
    "scores[\"GRU_glove_wikipedia_finetuned\"] = score_glfine\n",
    "print('Test loss:', score_glfine[0])\n",
    "print('Test accuracy:', score_glfine[1])"
   ]
  },
  {
   "cell_type": "code",
   "execution_count": 112,
   "metadata": {},
   "outputs": [
    {
     "name": "stdout",
     "output_type": "stream",
     "text": [
      "Saved model to disk\n"
     ]
    }
   ],
   "source": [
    "model4.save_weights(\"ex11-GRU_GloVe.h5\")\n",
    "print(\"Saved model to disk\")"
   ]
  },
  {
   "cell_type": "markdown",
   "metadata": {},
   "source": [
    "### Bidirectional example"
   ]
  },
  {
   "cell_type": "code",
   "execution_count": 122,
   "metadata": {},
   "outputs": [],
   "source": [
    "embedding_layer=Embedding(num_words, #size of vocab\n",
    "                          emb, #size of embedding \n",
    "                          embeddings_initializer=Constant(gloved), \n",
    "                          input_length=longestsentence, \n",
    "                          trainable=False  # do no update these weights\n",
    "                         )"
   ]
  },
  {
   "cell_type": "markdown",
   "metadata": {},
   "source": [
    "A bidirectional layer is actually two layers with the same structure. Both layers take the input step-by-step, one from beginning to end and one from end-to-beginning. The two hidden states at step $t$ are typically merged by concatenating or summing them. "
   ]
  },
  {
   "cell_type": "code",
   "execution_count": 123,
   "metadata": {},
   "outputs": [
    {
     "name": "stdout",
     "output_type": "stream",
     "text": [
      "_________________________________________________________________\n",
      "Layer (type)                 Output Shape              Param #   \n",
      "=================================================================\n",
      "embedding_10 (Embedding)     (None, 1390, 100)         265200    \n",
      "_________________________________________________________________\n",
      "bidirectional_2 (Bidirection (None, 32)                11232     \n",
      "_________________________________________________________________\n",
      "dense_7 (Dense)              (None, 1)                 33        \n",
      "=================================================================\n",
      "Total params: 276,465\n",
      "Trainable params: 11,265\n",
      "Non-trainable params: 265,200\n",
      "_________________________________________________________________\n",
      "None\n"
     ]
    }
   ],
   "source": [
    "from keras.layers import Bidirectional\n",
    "\n",
    "model5 = Sequential()\n",
    "model5.add(embedding_layer) #embeddings are trained\n",
    "#model5.add(Bidirectional(GRU(16, return_sequences=True)))\n",
    "model5.add(Bidirectional(GRU(16), merge_mode=\"concat\"))\n",
    "#model5.add(Dropout(0.25))\n",
    "model5.add(Dense(units=1, activation='sigmoid'))\n",
    "model5.compile(loss=\"binary_crossentropy\", optimizer=\"adam\", metrics=[\"accuracy\"])\n",
    "\n",
    "print(model5.summary())"
   ]
  },
  {
   "cell_type": "markdown",
   "metadata": {},
   "source": [
    "Why does the Dense layer have 33 parameters again?"
   ]
  },
  {
   "cell_type": "code",
   "execution_count": 124,
   "metadata": {},
   "outputs": [
    {
     "name": "stdout",
     "output_type": "stream",
     "text": [
      "Train on 448 samples, validate on 113 samples\n",
      "Epoch 1/25\n",
      "448/448 [==============================] - 14s 32ms/step - loss: 0.6922 - acc: 0.5647 - val_loss: 0.6921 - val_acc: 0.5044\n",
      "Epoch 2/25\n",
      "448/448 [==============================] - 10s 23ms/step - loss: 0.6724 - acc: 0.6205 - val_loss: 0.6775 - val_acc: 0.5664\n",
      "Epoch 3/25\n",
      "448/448 [==============================] - 9s 20ms/step - loss: 0.6571 - acc: 0.6540 - val_loss: 0.6653 - val_acc: 0.6018\n",
      "Epoch 4/25\n",
      "448/448 [==============================] - 9s 20ms/step - loss: 0.6408 - acc: 0.6786 - val_loss: 0.6565 - val_acc: 0.6195\n",
      "Epoch 5/25\n",
      "448/448 [==============================] - 9s 20ms/step - loss: 0.6301 - acc: 0.6830 - val_loss: 0.6485 - val_acc: 0.6372\n",
      "Epoch 6/25\n",
      "448/448 [==============================] - 9s 19ms/step - loss: 0.6172 - acc: 0.7188 - val_loss: 0.6387 - val_acc: 0.6372\n",
      "Epoch 7/25\n",
      "448/448 [==============================] - 9s 21ms/step - loss: 0.6067 - acc: 0.7188 - val_loss: 0.6310 - val_acc: 0.6372\n",
      "Epoch 8/25\n",
      "448/448 [==============================] - 9s 20ms/step - loss: 0.5952 - acc: 0.7232 - val_loss: 0.6232 - val_acc: 0.6372\n",
      "Epoch 9/25\n",
      "448/448 [==============================] - 9s 20ms/step - loss: 0.5829 - acc: 0.7321 - val_loss: 0.6159 - val_acc: 0.6195\n",
      "Epoch 10/25\n",
      "448/448 [==============================] - 9s 19ms/step - loss: 0.5718 - acc: 0.7366 - val_loss: 0.6068 - val_acc: 0.6283\n",
      "Epoch 11/25\n",
      "448/448 [==============================] - 9s 19ms/step - loss: 0.5558 - acc: 0.7567 - val_loss: 0.5954 - val_acc: 0.6726\n",
      "Epoch 12/25\n",
      "448/448 [==============================] - 9s 19ms/step - loss: 0.5418 - acc: 0.7656 - val_loss: 0.5825 - val_acc: 0.6814\n",
      "Epoch 13/25\n",
      "448/448 [==============================] - 9s 20ms/step - loss: 0.5251 - acc: 0.7478 - val_loss: 0.5697 - val_acc: 0.6814\n",
      "Epoch 14/25\n",
      "448/448 [==============================] - 9s 20ms/step - loss: 0.5056 - acc: 0.7879 - val_loss: 0.5517 - val_acc: 0.7168\n",
      "Epoch 15/25\n",
      "448/448 [==============================] - 11s 25ms/step - loss: 0.4811 - acc: 0.7991 - val_loss: 0.5369 - val_acc: 0.7080\n",
      "Epoch 16/25\n",
      "448/448 [==============================] - 25s 55ms/step - loss: 0.4558 - acc: 0.8103 - val_loss: 0.5090 - val_acc: 0.7434\n",
      "Epoch 17/25\n",
      "448/448 [==============================] - 42s 95ms/step - loss: 0.4402 - acc: 0.8058 - val_loss: 0.4955 - val_acc: 0.7434\n",
      "Epoch 18/25\n",
      "448/448 [==============================] - 100s 224ms/step - loss: 0.4147 - acc: 0.8259 - val_loss: 0.4700 - val_acc: 0.7611\n",
      "Epoch 19/25\n",
      "448/448 [==============================] - 50s 111ms/step - loss: 0.3940 - acc: 0.8326 - val_loss: 0.4558 - val_acc: 0.7876\n",
      "Epoch 20/25\n",
      "448/448 [==============================] - 36s 79ms/step - loss: 0.3815 - acc: 0.8393 - val_loss: 0.4662 - val_acc: 0.7257\n",
      "Epoch 21/25\n",
      "448/448 [==============================] - 30s 67ms/step - loss: 0.3717 - acc: 0.8393 - val_loss: 0.4391 - val_acc: 0.8142\n",
      "Epoch 22/25\n",
      "448/448 [==============================] - 34s 76ms/step - loss: 0.3505 - acc: 0.8638 - val_loss: 0.4474 - val_acc: 0.7522\n",
      "Epoch 23/25\n",
      "448/448 [==============================] - 31s 70ms/step - loss: 0.3317 - acc: 0.8594 - val_loss: 0.4263 - val_acc: 0.7876\n",
      "Epoch 24/25\n",
      "448/448 [==============================] - 33s 74ms/step - loss: 0.3242 - acc: 0.8683 - val_loss: 0.4222 - val_acc: 0.8142\n",
      "Epoch 25/25\n",
      "448/448 [==============================] - 28s 63ms/step - loss: 0.3191 - acc: 0.8638 - val_loss: 0.4388 - val_acc: 0.7699\n"
     ]
    }
   ],
   "source": [
    "history5=model5.fit(X_train, y_train, batch_size=64, epochs=epochs, validation_split=0.2, verbose=1)"
   ]
  },
  {
   "cell_type": "code",
   "execution_count": 125,
   "metadata": {},
   "outputs": [
    {
     "name": "stdout",
     "output_type": "stream",
     "text": [
      "Test loss: 0.4561549504810476\n",
      "Test accuracy: 0.8288770031164037\n"
     ]
    }
   ],
   "source": [
    "score_bid = model5.evaluate(X_test, y_test, verbose=0)\n",
    "scores[\"GRU_word2vec_reviews_bidirectional\"] = score_bid\n",
    "print('Test loss:', score_bid[0])\n",
    "print('Test accuracy:', score_bid[1])"
   ]
  },
  {
   "cell_type": "code",
   "execution_count": 126,
   "metadata": {},
   "outputs": [
    {
     "data": {
      "image/png": "[encoded data removed]",
      "text/plain": [
       "<Figure size 432x288 with 1 Axes>"
      ]
     },
     "metadata": {
      "needs_background": "light"
     },
     "output_type": "display_data"
    }
   ],
   "source": [
    "plt.plot(history5.history['acc'])\n",
    "plt.plot(history5.history['val_acc'])\n",
    "plt.title('model accuracy')\n",
    "plt.ylabel('accuracy')\n",
    "plt.xlabel('epoch')\n",
    "plt.legend(['train', 'validation'], loc='upper left')\n",
    "plt.show()"
   ]
  },
  {
   "cell_type": "code",
   "execution_count": 127,
   "metadata": {},
   "outputs": [
    {
     "name": "stdout",
     "output_type": "stream",
     "text": [
      "Saved model to disk\n"
     ]
    }
   ],
   "source": [
    "model5.save_weights(\"ex11-GRU_glove_wikipedia_bidirectional.h5\")\n",
    "print(\"Saved model to disk\")\n",
    "\n",
    "#model5.load_weights(\"ex11-GRU_glove_wikipedia_bidirectional.h5\")\n",
    "#print(\"Loaded model from disk\")"
   ]
  },
  {
   "cell_type": "markdown",
   "metadata": {},
   "source": [
    "### Let's compare the results"
   ]
  },
  {
   "cell_type": "code",
   "execution_count": 128,
   "metadata": {},
   "outputs": [
    {
     "data": {
      "text/html": [
       "<div>\n",
       "<style scoped>\n",
       "    .dataframe tbody tr th:only-of-type {\n",
       "        vertical-align: middle;\n",
       "    }\n",
       "\n",
       "    .dataframe tbody tr th {\n",
       "        vertical-align: top;\n",
       "    }\n",
       "\n",
       "    .dataframe thead th {\n",
       "        text-align: right;\n",
       "    }\n",
       "</style>\n",
       "<table border=\"1\" class=\"dataframe\">\n",
       "  <thead>\n",
       "    <tr style=\"text-align: right;\">\n",
       "      <th></th>\n",
       "      <th>GRU_glove_wikipedia</th>\n",
       "      <th>GRU_glove_wikipedia_finetuned</th>\n",
       "      <th>GRU_word2vec_reviews</th>\n",
       "      <th>GRU_word2vec_reviews_bidirectional</th>\n",
       "      <th>GRU_word2vec_reviews_finetuned</th>\n",
       "    </tr>\n",
       "  </thead>\n",
       "  <tbody>\n",
       "    <tr>\n",
       "      <th>0</th>\n",
       "      <td>[0.4154591730890427, 0.8128342255551547]</td>\n",
       "      <td>[0.45590559429025906, 0.8181818191380424]</td>\n",
       "      <td>[0.6003967580948284, 0.6791443869391864]</td>\n",
       "      <td>[0.4561549504810476, 0.8288770031164037]</td>\n",
       "      <td>[0.5804643240523211, 0.7754010672875267]</td>\n",
       "    </tr>\n",
       "  </tbody>\n",
       "</table>\n",
       "</div>"
      ],
      "text/plain": [
       "                        GRU_glove_wikipedia  \\\n",
       "0  [0.4154591730890427, 0.8128342255551547]   \n",
       "\n",
       "               GRU_glove_wikipedia_finetuned  \\\n",
       "0  [0.45590559429025906, 0.8181818191380424]   \n",
       "\n",
       "                       GRU_word2vec_reviews  \\\n",
       "0  [0.6003967580948284, 0.6791443869391864]   \n",
       "\n",
       "         GRU_word2vec_reviews_bidirectional  \\\n",
       "0  [0.4561549504810476, 0.8288770031164037]   \n",
       "\n",
       "             GRU_word2vec_reviews_finetuned  \n",
       "0  [0.5804643240523211, 0.7754010672875267]  "
      ]
     },
     "execution_count": 128,
     "metadata": {},
     "output_type": "execute_result"
    }
   ],
   "source": [
    "compare = pd.DataFrame([scores])\n",
    "compare\n",
    "# Current best results (SOTA) vary from 91 to 94% accuracy"
   ]
  },
  {
   "cell_type": "code",
   "execution_count": null,
   "metadata": {},
   "outputs": [],
   "source": []
  }
 ],
 "metadata": {
  "kernelspec": {
   "display_name": "Python 3",
   "language": "python",
   "name": "python3"
  },
  "language_info": {
   "codemirror_mode": {
    "name": "ipython",
    "version": 3
   },
   "file_extension": ".py",
   "mimetype": "text/x-python",
   "name": "python",
   "nbconvert_exporter": "python",
   "pygments_lexer": "ipython3",
   "version": "3.7.6"
  }
 },
 "nbformat": 4,
 "nbformat_minor": 2
}
