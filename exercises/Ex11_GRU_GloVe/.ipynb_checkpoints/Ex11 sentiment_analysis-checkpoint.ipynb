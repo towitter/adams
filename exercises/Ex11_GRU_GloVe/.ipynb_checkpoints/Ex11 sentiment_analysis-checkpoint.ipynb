{
 "cells": [
  {
   "cell_type": "markdown",
   "metadata": {},
   "source": [
    "# Sentiment analysis\n",
    "\n",
    "One of the most popular and frequent tasks when it comes to dealing with text, it also brings us back to the good old binary classification challenge. We will look at the processed data set of movie reviews, originally gathered and studied by Maas et al (https://www.aclweb.org/anthology/P11-1015). Movie comments are labeled as \"1\" for positive reviews and \"0\" for negative. Let's consider methods from simplest to more complex:\n",
    " 1. Dictionary based\n",
    " 2. Logit with vectorized inputs\n",
    " 3. w2v embeddings manually trained + GRU\n",
    " 4. GloVe pretrained embeddings + GRU\n",
    " 5. GloVe pretrained embeddings + GRU + bidirectinoal wrapper\n"
   ]
  },
  {
   "cell_type": "code",
   "execution_count": 1,
   "metadata": {},
   "outputs": [
    {
     "data": {
      "text/html": [
       "<div>\n",
       "<style scoped>\n",
       "    .dataframe tbody tr th:only-of-type {\n",
       "        vertical-align: middle;\n",
       "    }\n",
       "\n",
       "    .dataframe tbody tr th {\n",
       "        vertical-align: top;\n",
       "    }\n",
       "\n",
       "    .dataframe thead th {\n",
       "        text-align: right;\n",
       "    }\n",
       "</style>\n",
       "<table border=\"1\" class=\"dataframe\">\n",
       "  <thead>\n",
       "    <tr style=\"text-align: right;\">\n",
       "      <th></th>\n",
       "      <th>sentence</th>\n",
       "      <th>label</th>\n",
       "    </tr>\n",
       "  </thead>\n",
       "  <tbody>\n",
       "    <tr>\n",
       "      <th>0</th>\n",
       "      <td>A very, very, very slow-moving, aimless movie ...</td>\n",
       "      <td>0</td>\n",
       "    </tr>\n",
       "    <tr>\n",
       "      <th>1</th>\n",
       "      <td>Not sure who was more lost - the flat characte...</td>\n",
       "      <td>0</td>\n",
       "    </tr>\n",
       "    <tr>\n",
       "      <th>2</th>\n",
       "      <td>Attempting artiness with black &amp; white and cle...</td>\n",
       "      <td>0</td>\n",
       "    </tr>\n",
       "    <tr>\n",
       "      <th>3</th>\n",
       "      <td>Very little music or anything to speak of.</td>\n",
       "      <td>0</td>\n",
       "    </tr>\n",
       "    <tr>\n",
       "      <th>4</th>\n",
       "      <td>The best scene in the movie was when Gerardo i...</td>\n",
       "      <td>1</td>\n",
       "    </tr>\n",
       "    <tr>\n",
       "      <th>5</th>\n",
       "      <td>The rest of the movie lacks art, charm, meanin...</td>\n",
       "      <td>0</td>\n",
       "    </tr>\n",
       "    <tr>\n",
       "      <th>6</th>\n",
       "      <td>Wasted two hours.</td>\n",
       "      <td>0</td>\n",
       "    </tr>\n",
       "    <tr>\n",
       "      <th>7</th>\n",
       "      <td>Saw the movie today and thought it was a good ...</td>\n",
       "      <td>1</td>\n",
       "    </tr>\n",
       "    <tr>\n",
       "      <th>8</th>\n",
       "      <td>A bit predictable.</td>\n",
       "      <td>0</td>\n",
       "    </tr>\n",
       "    <tr>\n",
       "      <th>9</th>\n",
       "      <td>Loved the casting of Jimmy Buffet as the scien...</td>\n",
       "      <td>1</td>\n",
       "    </tr>\n",
       "  </tbody>\n",
       "</table>\n",
       "</div>"
      ],
      "text/plain": [
       "                                            sentence  label\n",
       "0  A very, very, very slow-moving, aimless movie ...      0\n",
       "1  Not sure who was more lost - the flat characte...      0\n",
       "2  Attempting artiness with black & white and cle...      0\n",
       "3       Very little music or anything to speak of.        0\n",
       "4  The best scene in the movie was when Gerardo i...      1\n",
       "5  The rest of the movie lacks art, charm, meanin...      0\n",
       "6                                Wasted two hours.        0\n",
       "7  Saw the movie today and thought it was a good ...      1\n",
       "8                               A bit predictable.        0\n",
       "9  Loved the casting of Jimmy Buffet as the scien...      1"
      ]
     },
     "execution_count": 1,
     "metadata": {},
     "output_type": "execute_result"
    }
   ],
   "source": [
    "import pandas as pd\n",
    "import numpy as np\n",
    "import re\n",
    "from nltk.tokenize import word_tokenize\n",
    "from nltk.corpus import stopwords\n",
    "from nltk.classify.scikitlearn import SklearnClassifier\n",
    "from sklearn import model_selection\n",
    "from bs4 import BeautifulSoup\n",
    "import nltk\n",
    "from nltk.stem import WordNetLemmatizer\n",
    "from tqdm import tqdm\n",
    "from sklearn.preprocessing import LabelEncoder\n",
    "from sklearn.model_selection import train_test_split\n",
    "from sklearn.metrics import classification_report, confusion_matrix\n",
    "import matplotlib.pyplot as plt\n",
    "\n",
    "%matplotlib inline\n",
    "\n",
    "#text document for a difference, IMDB database snippet, positive (1), negative (0)\n",
    "df=pd.read_csv(\"imdb_labelled.txt\",names=['sentence', 'label'], sep='\\t')\n",
    "df.head(10)"
   ]
  },
  {
   "cell_type": "code",
   "execution_count": 2,
   "metadata": {},
   "outputs": [
    {
     "data": {
      "text/plain": [
       "(array([362.,   0.,   0.,   0.,   0.,   0.,   0.,   0.,   0., 386.]),\n",
       " array([0. , 0.1, 0.2, 0.3, 0.4, 0.5, 0.6, 0.7, 0.8, 0.9, 1. ]),\n",
       " <a list of 10 Patch objects>)"
      ]
     },
     "execution_count": 2,
     "metadata": {},
     "output_type": "execute_result"
    },
    {
     "data": {
      "image/png": "[encoded data removed]",
      "text/plain": [
       "<Figure size 432x288 with 1 Axes>"
      ]
     },
     "metadata": {
      "needs_background": "light"
     },
     "output_type": "display_data"
    }
   ],
   "source": [
    "plt.hist(df[\"label\"])\n",
    "#for once we are balanced"
   ]
  },
  {
   "cell_type": "markdown",
   "metadata": {},
   "source": [
    "### 1. Classic example of sentiment analysis using dictionary"
   ]
  },
  {
   "cell_type": "code",
   "execution_count": 5,
   "metadata": {},
   "outputs": [
    {
     "name": "stdout",
     "output_type": "stream",
     "text": [
      "6.0\n",
      "-5.0\n",
      "0.0\n"
     ]
    }
   ],
   "source": [
    "#AFINN is an English word listed developed by Finn Årup Nielsen. \n",
    "#Words scores range from minus five (negative) to plus five (positive). \n",
    "#The English language dictionary consists of 2,477 coded words.\n",
    "from afinn import Afinn\n",
    "afinn = Afinn(language='en')\n",
    "print(afinn.score(\"What a marvelous evening, the weather is simply delightful.\"))\n",
    "print(afinn.score(\"I am devastated, the donuts are not what they used to be, what a horrendous taste\"))\n",
    "print(afinn.score(\"To be or not to be, that is the question..\"))"
   ]
  },
  {
   "cell_type": "code",
   "execution_count": 6,
   "metadata": {},
   "outputs": [
    {
     "data": {
      "text/plain": [
       "count    748.000000\n",
       "mean       0.878342\n",
       "std        5.329307\n",
       "min      -15.000000\n",
       "25%       -2.000000\n",
       "50%        0.000000\n",
       "75%        3.000000\n",
       "max       77.000000\n",
       "Name: afinn_score, dtype: float64"
      ]
     },
     "execution_count": 6,
     "metadata": {},
     "output_type": "execute_result"
    }
   ],
   "source": [
    "df['afinn_score'] = df['sentence'].apply(afinn.score)\n",
    "df['afinn_score'].describe() # overall rather positive"
   ]
  },
  {
   "cell_type": "code",
   "execution_count": 7,
   "metadata": {},
   "outputs": [],
   "source": [
    "#Let's calculate the accuracy, we will say that if score is positive then it's a good review\n",
    "df['yhat'] = np.where(df['afinn_score']>0, 1, 0)"
   ]
  },
  {
   "cell_type": "code",
   "execution_count": 8,
   "metadata": {},
   "outputs": [
    {
     "data": {
      "text/html": [
       "<div>\n",
       "<style scoped>\n",
       "    .dataframe tbody tr th:only-of-type {\n",
       "        vertical-align: middle;\n",
       "    }\n",
       "\n",
       "    .dataframe tbody tr th {\n",
       "        vertical-align: top;\n",
       "    }\n",
       "\n",
       "    .dataframe thead th {\n",
       "        text-align: right;\n",
       "    }\n",
       "</style>\n",
       "<table border=\"1\" class=\"dataframe\">\n",
       "  <thead>\n",
       "    <tr style=\"text-align: right;\">\n",
       "      <th></th>\n",
       "      <th>sentence</th>\n",
       "      <th>label</th>\n",
       "      <th>afinn_score</th>\n",
       "      <th>yhat</th>\n",
       "    </tr>\n",
       "  </thead>\n",
       "  <tbody>\n",
       "    <tr>\n",
       "      <th>0</th>\n",
       "      <td>A very, very, very slow-moving, aimless movie ...</td>\n",
       "      <td>0</td>\n",
       "      <td>-2.0</td>\n",
       "      <td>0</td>\n",
       "    </tr>\n",
       "    <tr>\n",
       "      <th>1</th>\n",
       "      <td>Not sure who was more lost - the flat characte...</td>\n",
       "      <td>0</td>\n",
       "      <td>-3.0</td>\n",
       "      <td>0</td>\n",
       "    </tr>\n",
       "    <tr>\n",
       "      <th>2</th>\n",
       "      <td>Attempting artiness with black &amp; white and cle...</td>\n",
       "      <td>0</td>\n",
       "      <td>-5.0</td>\n",
       "      <td>0</td>\n",
       "    </tr>\n",
       "    <tr>\n",
       "      <th>3</th>\n",
       "      <td>Very little music or anything to speak of.</td>\n",
       "      <td>0</td>\n",
       "      <td>0.0</td>\n",
       "      <td>0</td>\n",
       "    </tr>\n",
       "    <tr>\n",
       "      <th>4</th>\n",
       "      <td>The best scene in the movie was when Gerardo i...</td>\n",
       "      <td>1</td>\n",
       "      <td>3.0</td>\n",
       "      <td>1</td>\n",
       "    </tr>\n",
       "    <tr>\n",
       "      <th>5</th>\n",
       "      <td>The rest of the movie lacks art, charm, meanin...</td>\n",
       "      <td>0</td>\n",
       "      <td>1.0</td>\n",
       "      <td>1</td>\n",
       "    </tr>\n",
       "    <tr>\n",
       "      <th>6</th>\n",
       "      <td>Wasted two hours.</td>\n",
       "      <td>0</td>\n",
       "      <td>-2.0</td>\n",
       "      <td>0</td>\n",
       "    </tr>\n",
       "    <tr>\n",
       "      <th>7</th>\n",
       "      <td>Saw the movie today and thought it was a good ...</td>\n",
       "      <td>1</td>\n",
       "      <td>6.0</td>\n",
       "      <td>1</td>\n",
       "    </tr>\n",
       "    <tr>\n",
       "      <th>8</th>\n",
       "      <td>A bit predictable.</td>\n",
       "      <td>0</td>\n",
       "      <td>0.0</td>\n",
       "      <td>0</td>\n",
       "    </tr>\n",
       "    <tr>\n",
       "      <th>9</th>\n",
       "      <td>Loved the casting of Jimmy Buffet as the scien...</td>\n",
       "      <td>1</td>\n",
       "      <td>3.0</td>\n",
       "      <td>1</td>\n",
       "    </tr>\n",
       "  </tbody>\n",
       "</table>\n",
       "</div>"
      ],
      "text/plain": [
       "                                            sentence  label  afinn_score  yhat\n",
       "0  A very, very, very slow-moving, aimless movie ...      0         -2.0     0\n",
       "1  Not sure who was more lost - the flat characte...      0         -3.0     0\n",
       "2  Attempting artiness with black & white and cle...      0         -5.0     0\n",
       "3       Very little music or anything to speak of.        0          0.0     0\n",
       "4  The best scene in the movie was when Gerardo i...      1          3.0     1\n",
       "5  The rest of the movie lacks art, charm, meanin...      0          1.0     1\n",
       "6                                Wasted two hours.        0         -2.0     0\n",
       "7  Saw the movie today and thought it was a good ...      1          6.0     1\n",
       "8                               A bit predictable.        0          0.0     0\n",
       "9  Loved the casting of Jimmy Buffet as the scien...      1          3.0     1"
      ]
     },
     "execution_count": 8,
     "metadata": {},
     "output_type": "execute_result"
    }
   ],
   "source": [
    "df.head(10)"
   ]
  },
  {
   "cell_type": "code",
   "execution_count": 9,
   "metadata": {},
   "outputs": [
    {
     "name": "stdout",
     "output_type": "stream",
     "text": [
      "Accuracy: 0.7700534759358288\n"
     ]
    }
   ],
   "source": [
    "from sklearn.metrics import accuracy_score\n",
    "\n",
    "score_dict=accuracy_score(df['label'], df['yhat'])\n",
    "print(\"Accuracy:\", score_dict)"
   ]
  },
  {
   "cell_type": "markdown",
   "metadata": {},
   "source": [
    "### 2. Baseline model: logit"
   ]
  },
  {
   "cell_type": "code",
   "execution_count": 10,
   "metadata": {},
   "outputs": [],
   "source": [
    "from sklearn.model_selection import train_test_split\n",
    "\n",
    "X_train, X_test, y_train, y_test = train_test_split(df['sentence'], df['label'], test_size=0.25, random_state=111)"
   ]
  },
  {
   "cell_type": "markdown",
   "metadata": {},
   "source": [
    "We will use vectorization for our baseline model: take the words of each sentence and create a vocabulary of all the unique words in the sentences. This vocabulary can then be used to create a feature vector of the count of the words"
   ]
  },
  {
   "cell_type": "code",
   "execution_count": 11,
   "metadata": {},
   "outputs": [
    {
     "name": "stdout",
     "output_type": "stream",
     "text": [
      "  (0, 1154)\t1\n",
      "  (0, 1607)\t1\n",
      "  (0, 1842)\t1\n",
      "  (0, 1889)\t1\n",
      "  (0, 1973)\t1\n",
      "  (0, 2333)\t1\n",
      "  (0, 2551)\t1\n",
      "  (0, 2666)\t1\n"
     ]
    }
   ],
   "source": [
    "from sklearn.feature_extraction.text import CountVectorizer\n",
    "\n",
    "vectorizer = CountVectorizer()\n",
    "vectorizer.fit(X_train)\n",
    "\n",
    "X_train = vectorizer.transform(X_train)\n",
    "X_test  = vectorizer.transform(X_test)\n",
    "\n",
    "print(X_train[10])"
   ]
  },
  {
   "cell_type": "code",
   "execution_count": 12,
   "metadata": {},
   "outputs": [],
   "source": [
    "#vectorizer.vocabulary_"
   ]
  },
  {
   "cell_type": "code",
   "execution_count": 13,
   "metadata": {},
   "outputs": [
    {
     "name": "stdout",
     "output_type": "stream",
     "text": [
      "Accuracy: 0.7433155080213903\n"
     ]
    }
   ],
   "source": [
    "from sklearn.linear_model import LogisticRegression\n",
    "\n",
    "classifier = LogisticRegression(solver=\"lbfgs\")\n",
    "classifier.fit(X_train, y_train)\n",
    "score_lr = classifier.score(X_test, y_test)\n",
    "\n",
    "print(\"Accuracy:\", score_lr)"
   ]
  },
  {
   "cell_type": "markdown",
   "metadata": {},
   "source": [
    "### 3. w2v embeddings + GRU"
   ]
  },
  {
   "cell_type": "code",
   "execution_count": 14,
   "metadata": {},
   "outputs": [],
   "source": [
    "# Lemmatize with POS Tag\n",
    "from nltk.corpus import wordnet\n",
    "\n",
    "def get_wordnet_pos(word):\n",
    "    \"\"\"Map POS tag to first character lemmatize() accepts\"\"\"\n",
    "    tag = nltk.pos_tag([word])[0][1][0].upper()\n",
    "    tag_dict = {\"J\": wordnet.ADJ,\n",
    "                \"N\": wordnet.NOUN,\n",
    "                \"V\": wordnet.VERB,\n",
    "                \"R\": wordnet.ADV}\n",
    "\n",
    "    return tag_dict.get(tag, wordnet.NOUN)\n",
    "\n",
    "\n",
    "lemmatizer = WordNetLemmatizer()"
   ]
  },
  {
   "cell_type": "code",
   "execution_count": 15,
   "metadata": {},
   "outputs": [
    {
     "data": {
      "text/plain": [
       "'The Songs Were The Best And The Muppets Were So Hilarious.  '"
      ]
     },
     "execution_count": 15,
     "metadata": {},
     "output_type": "execute_result"
    }
   ],
   "source": [
    "df.sentence[12]"
   ]
  },
  {
   "cell_type": "code",
   "execution_count": 16,
   "metadata": {},
   "outputs": [
    {
     "name": "stdout",
     "output_type": "stream",
     "text": [
      "748\n"
     ]
    }
   ],
   "source": [
    "def clean_sentences(df):\n",
    "    reviews = []\n",
    "\n",
    "    for sent in df:\n",
    "        \n",
    "        #remove html content\n",
    "        review_text = BeautifulSoup(sent).get_text()\n",
    "        \n",
    "        #remove non-alphabetic characters\n",
    "        review_text = re.sub(\"[^a-zA-Z]\",\" \", review_text)\n",
    "    \n",
    "        #tokenize the sentences\n",
    "        words = word_tokenize(review_text.lower())\n",
    "  \n",
    "        #lemmatize each word to its lemma\n",
    "        lemma_words =[lemmatizer.lemmatize(i, get_wordnet_pos(i)) for i in words]\n",
    "    \n",
    "        reviews.append(lemma_words)\n",
    "\n",
    "    return(reviews)\n",
    "\n",
    "#from https://www.kaggle.com/chiranjeevbit/movie-review-prediction\n",
    "import warnings\n",
    "warnings.filterwarnings(\"ignore\", category=UserWarning, module='bs4')\n",
    "\n",
    "train_sentences = clean_sentences(df['sentence'])\n",
    "print(len(train_sentences))#748\n"
   ]
  },
  {
   "cell_type": "code",
   "execution_count": 17,
   "metadata": {},
   "outputs": [
    {
     "data": {
      "text/plain": [
       "['the',\n",
       " 'song',\n",
       " 'be',\n",
       " 'the',\n",
       " 'best',\n",
       " 'and',\n",
       " 'the',\n",
       " 'muppets',\n",
       " 'be',\n",
       " 'so',\n",
       " 'hilarious']"
      ]
     },
     "execution_count": 17,
     "metadata": {},
     "output_type": "execute_result"
    }
   ],
   "source": [
    "train_sentences[12]"
   ]
  },
  {
   "cell_type": "code",
   "execution_count": 18,
   "metadata": {},
   "outputs": [
    {
     "name": "stdout",
     "output_type": "stream",
     "text": [
      "['and', 'those', 'baby', 'owl', 'be', 'adorable']\n"
     ]
    }
   ],
   "source": [
    "import pickle\n",
    "\n",
    "with open('review.pkl','wb') as f:\n",
    "    pickle.dump(train_sentences, f)\n",
    "  \n",
    "with open('review.pkl','rb') as f:\n",
    "    clean_list = pickle.load(f)\n",
    "    print(clean_list[10])\n"
   ]
  },
  {
   "cell_type": "markdown",
   "metadata": {},
   "source": [
    "#### Training word vectors\n"
   ]
  },
  {
   "cell_type": "code",
   "execution_count": 19,
   "metadata": {},
   "outputs": [
    {
     "name": "stderr",
     "output_type": "stream",
     "text": [
      "C:\\Users\\AlisaK\\AppData\\Local\\Continuum\\anaconda3\\lib\\site-packages\\gensim\\utils.py:1197: UserWarning: detected Windows; aliasing chunkize to chunkize_serial\n",
      "  warnings.warn(\"detected Windows; aliasing chunkize to chunkize_serial\")\n"
     ]
    },
    {
     "name": "stdout",
     "output_type": "stream",
     "text": [
      "Word2Vec(vocab=2651, size=100, alpha=0.025)\n"
     ]
    }
   ],
   "source": [
    "from gensim.models import Word2Vec    \n",
    "\n",
    "emb=100 # size of embedding dimension\n",
    "\n",
    "# Train a Word2Vec model\n",
    "model = Word2Vec(train_sentences, \n",
    "                 min_count=1,## min_count means the frequency benchmark, if =2 and word is used only once - it's not included\n",
    "                 window=5, #the size of context\n",
    "                 iter =100, #how many times the training code will run through the data set, same as epochs (first pass is to create dict)\n",
    "                 size=emb, #size of embedding\n",
    "                 workers=4)#for parallel computing\n",
    "# summarize the loaded model\n",
    "print(model)\n",
    "words=list(model.wv.vocab)"
   ]
  },
  {
   "cell_type": "code",
   "execution_count": 20,
   "metadata": {},
   "outputs": [
    {
     "name": "stderr",
     "output_type": "stream",
     "text": [
      "C:\\Users\\AlisaK\\AppData\\Local\\Continuum\\anaconda3\\lib\\site-packages\\smart_open\\smart_open_lib.py:398: UserWarning: This function is deprecated, use smart_open.open instead. See the migration notes for details: https://github.com/RaRe-Technologies/smart_open/blob/master/README.rst#migrating-to-the-new-open-function\n",
      "  'See the migration notes for details: %s' % _MIGRATION_NOTES_URL\n"
     ]
    }
   ],
   "source": [
    "embs=\"movie_embeddings.txt\"\n",
    "model.wv.save_word2vec_format(embs, binary=False)"
   ]
  },
  {
   "cell_type": "markdown",
   "metadata": {},
   "source": [
    "#### Preparing embeddings for the classifier training\n",
    "We will need to make sure that embeddings constitute a proper 'lookup table' for the use in NN.\n",
    "Inspiration taken from https://blog.keras.io/using-pre-trained-word-embeddings-in-a-keras-model.html"
   ]
  },
  {
   "cell_type": "code",
   "execution_count": 21,
   "metadata": {},
   "outputs": [
    {
     "data": {
      "text/plain": [
       "['not',\n",
       " 'sure',\n",
       " 'who',\n",
       " 'be',\n",
       " 'more',\n",
       " 'lose',\n",
       " 'the',\n",
       " 'flat',\n",
       " 'character',\n",
       " 'or',\n",
       " 'the',\n",
       " 'audience',\n",
       " 'nearly',\n",
       " 'half',\n",
       " 'of',\n",
       " 'whom',\n",
       " 'walk',\n",
       " 'out']"
      ]
     },
     "execution_count": 21,
     "metadata": {},
     "output_type": "execute_result"
    }
   ],
   "source": [
    "train_sentences[1]"
   ]
  },
  {
   "cell_type": "code",
   "execution_count": 22,
   "metadata": {},
   "outputs": [
    {
     "name": "stderr",
     "output_type": "stream",
     "text": [
      "Using TensorFlow backend.\n"
     ]
    },
    {
     "data": {
      "text/plain": [
       "[24, 520, 53, 2, 61, 284, 1, 711, 32, 50, 1, 337, 1099, 285, 5, 712, 521, 48]"
      ]
     },
     "execution_count": 22,
     "metadata": {},
     "output_type": "execute_result"
    }
   ],
   "source": [
    "from keras.preprocessing.text import Tokenizer\n",
    "from keras.preprocessing.sequence import pad_sequences\n",
    "\n",
    "tokenizer_obj=Tokenizer()\n",
    "tokenizer_obj.fit_on_texts(train_sentences)\n",
    "seq=tokenizer_obj.texts_to_sequences(train_sentences)\n",
    "seq[1]"
   ]
  },
  {
   "cell_type": "code",
   "execution_count": 23,
   "metadata": {},
   "outputs": [
    {
     "data": {
      "text/plain": [
       "2651"
      ]
     },
     "execution_count": 23,
     "metadata": {},
     "output_type": "execute_result"
    }
   ],
   "source": [
    "word_index=tokenizer_obj.word_index\n",
    "# here is the size of vocab/number of unique tokens\n",
    "len(word_index)#2651"
   ]
  },
  {
   "cell_type": "code",
   "execution_count": 24,
   "metadata": {},
   "outputs": [
    {
     "name": "stdout",
     "output_type": "stream",
     "text": [
      "(748, 1390)\n",
      "(748,)\n"
     ]
    }
   ],
   "source": [
    "longestsentence=max([len(s.split()) for s in df[\"sentence\"]])\n",
    "padded=pad_sequences(seq,longestsentence)\n",
    "sentiment=df[\"label\"]\n",
    "print(padded.shape) # 748 reviews, with max length od 1390 tokens\n",
    "print(sentiment.shape)"
   ]
  },
  {
   "cell_type": "code",
   "execution_count": 25,
   "metadata": {},
   "outputs": [],
   "source": [
    "X_train, X_test, y_train, y_test = train_test_split(padded, sentiment, test_size=0.25, random_state=111)"
   ]
  },
  {
   "cell_type": "markdown",
   "metadata": {},
   "source": [
    "[AK] I sometimes see that they tokenize only according to the trainset"
   ]
  },
  {
   "cell_type": "markdown",
   "metadata": {},
   "source": [
    "Now we can do the mapping to create your lookup table"
   ]
  },
  {
   "cell_type": "code",
   "execution_count": 26,
   "metadata": {},
   "outputs": [
    {
     "data": {
      "text/plain": [
       "array(['0.4628436', '-1.2452219', '0.1855103', '0.26748446',\n",
       "       '-0.93181664', '0.2584628', '0.6044608', '0.020072717',\n",
       "       '0.6711698', '0.22714467', '-0.53407466', '0.3132994',\n",
       "       '-0.45373446', '-0.54746866', '-0.52906066', '-0.7340539',\n",
       "       '-0.7834671', '-0.6967948', '-0.8012034', '0.4319626',\n",
       "       '-0.24218373', '0.2537378', '-0.6391191', '-0.69557136',\n",
       "       '-0.78852594', '0.43900633', '0.2054308', '0.10484035',\n",
       "       '-0.8437629', '0.06643088', '-1.2788322', '0.5042063',\n",
       "       '0.34543255', '1.0874088', '0.69883734', '1.3124248',\n",
       "       '-0.79854006', '-1.1652329', '-0.86630356', '-0.43031913',\n",
       "       '0.84463197', '0.6767339', '0.32865897', '-0.15252668',\n",
       "       '-0.07873079', '0.56145275', '-0.26370275', '-0.39103583',\n",
       "       '0.3097682', '0.32127425', '0.27048302', '0.016262235',\n",
       "       '-0.6393252', '-0.5898606', '0.3688758', '-0.7823179', '0.7207529',\n",
       "       '-0.48320597', '1.4360696', '-0.55013657', '0.057691228',\n",
       "       '3.1096348e-05', '-1.9473534', '0.6808188', '0.2632607',\n",
       "       '1.6177169', '-0.39350483', '-0.1424792', '0.5343381',\n",
       "       '-0.24726987', '0.6480989', '0.6728784', '-0.08959091',\n",
       "       '0.79230666', '0.6890221', '1.3532692', '1.2592611', '-0.70634186',\n",
       "       '0.43726102', '-0.2288373', '0.035910998', '0.25367287',\n",
       "       '-0.08805978', '-0.46651593', '1.8643898', '-0.24680398',\n",
       "       '0.1217022', '-1.8992949', '0.082174666', '0.07128108',\n",
       "       '-0.61243635', '-0.9003298', '-0.26467565', '-0.43435583',\n",
       "       '1.2084349', '-0.25852236', '-0.75953877', '-0.44853577',\n",
       "       '-0.4215923', '-1.1538744'], dtype='<U13')"
      ]
     },
     "execution_count": 26,
     "metadata": {},
     "output_type": "execute_result"
    }
   ],
   "source": [
    "embeddings_index={}\n",
    "loaded_embs=open(\"movie_embeddings.txt\")\n",
    "for line in loaded_embs:\n",
    "    values=line.split()\n",
    "    word=values[0]\n",
    "    coefs=np.asarray(values[1:])\n",
    "    embeddings_index[word]=coefs\n",
    "loaded_embs.close()\n",
    "embeddings_index[\"movie\"]"
   ]
  },
  {
   "cell_type": "code",
   "execution_count": 27,
   "metadata": {},
   "outputs": [
    {
     "name": "stdout",
     "output_type": "stream",
     "text": [
      "(2652, 100)\n",
      "2652\n"
     ]
    }
   ],
   "source": [
    "num_words=len(word_index)+1\n",
    "embedding_matrix=np.zeros((num_words, emb))\n",
    "\n",
    "for word, i in word_index.items():\n",
    "    if i > num_words:\n",
    "        continue\n",
    "    embedding_vector=embeddings_index.get(word)\n",
    "    #dealing with words that we have not embeddings for\n",
    "    if embedding_vector is not None:\n",
    "        embedding_matrix[i]=embedding_vector\n",
    "#embedding_matrix is our lookup table\n",
    "print(embedding_matrix.shape)\n",
    "print(num_words)"
   ]
  },
  {
   "cell_type": "markdown",
   "metadata": {},
   "source": [
    "#### Setting up the classifier"
   ]
  },
  {
   "cell_type": "code",
   "execution_count": 28,
   "metadata": {},
   "outputs": [
    {
     "name": "stdout",
     "output_type": "stream",
     "text": [
      "_________________________________________________________________\n",
      "Layer (type)                 Output Shape              Param #   \n",
      "=================================================================\n",
      "embedding_1 (Embedding)      (None, 1390, 100)         265200    \n",
      "_________________________________________________________________\n",
      "gru_1 (GRU)                  (None, 16)                5616      \n",
      "_________________________________________________________________\n",
      "dense_1 (Dense)              (None, 1)                 17        \n",
      "=================================================================\n",
      "Total params: 270,833\n",
      "Trainable params: 5,633\n",
      "Non-trainable params: 265,200\n",
      "_________________________________________________________________\n"
     ]
    }
   ],
   "source": [
    "from keras.models import Sequential\n",
    "from keras.layers import Dense, Embedding, LSTM,GRU\n",
    "from keras.layers.embeddings import Embedding\n",
    "from keras. initializers import Constant\n",
    "\n",
    "epochs=25\n",
    "\n",
    "model=Sequential()\n",
    "embedding_layer=Embedding(num_words, #size of vocab\n",
    "                         emb, #size of embedding \n",
    "                         embeddings_initializer=Constant(embedding_matrix), #weights to start with, and not nouch during training\n",
    "                         input_length=longestsentence, \n",
    "                          trainable=False  # do no update these weights\n",
    "                         )\n",
    "model.add(embedding_layer)\n",
    "model.add(GRU(16))\n",
    "model.add(Dense(1, activation=\"sigmoid\"))\n",
    "model.compile(loss=\"binary_crossentropy\", optimizer=\"adam\", metrics=[\"accuracy\"])\n",
    "model.summary()"
   ]
  },
  {
   "cell_type": "code",
   "execution_count": 29,
   "metadata": {},
   "outputs": [
    {
     "name": "stdout",
     "output_type": "stream",
     "text": [
      "Train on 392 samples, validate on 169 samples\n",
      "Epoch 1/25\n",
      "392/392 [==============================] - 6s 16ms/step - loss: 0.7174 - acc: 0.4694 - val_loss: 0.7252 - val_acc: 0.4260\n",
      "Epoch 2/25\n",
      "392/392 [==============================] - 6s 15ms/step - loss: 0.6818 - acc: 0.5102 - val_loss: 0.6931 - val_acc: 0.5325\n",
      "Epoch 3/25\n",
      "392/392 [==============================] - 6s 16ms/step - loss: 0.6614 - acc: 0.5689 - val_loss: 0.6737 - val_acc: 0.5680\n",
      "Epoch 4/25\n",
      "392/392 [==============================] - 7s 17ms/step - loss: 0.6477 - acc: 0.5995 - val_loss: 0.6547 - val_acc: 0.6036\n",
      "Epoch 5/25\n",
      "392/392 [==============================] - 7s 17ms/step - loss: 0.6357 - acc: 0.6199 - val_loss: 0.6428 - val_acc: 0.6331\n",
      "Epoch 6/25\n",
      "392/392 [==============================] - 6s 16ms/step - loss: 0.6258 - acc: 0.6250 - val_loss: 0.6317 - val_acc: 0.6450\n",
      "Epoch 7/25\n",
      "392/392 [==============================] - 7s 17ms/step - loss: 0.6189 - acc: 0.6658 - val_loss: 0.6229 - val_acc: 0.6568\n",
      "Epoch 8/25\n",
      "392/392 [==============================] - 6s 16ms/step - loss: 0.6123 - acc: 0.6862 - val_loss: 0.6169 - val_acc: 0.6568\n",
      "Epoch 9/25\n",
      "392/392 [==============================] - 6s 14ms/step - loss: 0.6028 - acc: 0.6862 - val_loss: 0.6133 - val_acc: 0.6450\n",
      "Epoch 10/25\n",
      "392/392 [==============================] - 4s 10ms/step - loss: 0.5960 - acc: 0.6913 - val_loss: 0.6100 - val_acc: 0.6627\n",
      "Epoch 11/25\n",
      "392/392 [==============================] - 4s 9ms/step - loss: 0.5887 - acc: 0.6964 - val_loss: 0.6048 - val_acc: 0.6686\n",
      "Epoch 12/25\n",
      "392/392 [==============================] - 4s 9ms/step - loss: 0.5815 - acc: 0.7092 - val_loss: 0.5986 - val_acc: 0.6805\n",
      "Epoch 13/25\n",
      "392/392 [==============================] - 7s 17ms/step - loss: 0.5757 - acc: 0.7194 - val_loss: 0.5959 - val_acc: 0.6982\n",
      "Epoch 14/25\n",
      "392/392 [==============================] - 6s 16ms/step - loss: 0.5688 - acc: 0.7245 - val_loss: 0.5947 - val_acc: 0.7101\n",
      "Epoch 15/25\n",
      "392/392 [==============================] - 7s 17ms/step - loss: 0.5592 - acc: 0.7296 - val_loss: 0.5929 - val_acc: 0.6805\n",
      "Epoch 16/25\n",
      "392/392 [==============================] - 6s 17ms/step - loss: 0.5511 - acc: 0.7321 - val_loss: 0.5907 - val_acc: 0.6805\n",
      "Epoch 17/25\n",
      "392/392 [==============================] - 7s 17ms/step - loss: 0.5428 - acc: 0.7372 - val_loss: 0.5933 - val_acc: 0.7101\n",
      "Epoch 18/25\n",
      "392/392 [==============================] - 6s 17ms/step - loss: 0.5373 - acc: 0.7500 - val_loss: 0.5885 - val_acc: 0.7278\n",
      "Epoch 19/25\n",
      "392/392 [==============================] - 6s 16ms/step - loss: 0.5293 - acc: 0.7653 - val_loss: 0.5772 - val_acc: 0.7396\n",
      "Epoch 20/25\n",
      "392/392 [==============================] - 6s 15ms/step - loss: 0.5182 - acc: 0.7679 - val_loss: 0.5818 - val_acc: 0.7041\n",
      "Epoch 21/25\n",
      "392/392 [==============================] - 7s 17ms/step - loss: 0.5135 - acc: 0.7755 - val_loss: 0.5871 - val_acc: 0.7160\n",
      "Epoch 22/25\n",
      "392/392 [==============================] - 5s 12ms/step - loss: 0.5041 - acc: 0.7704 - val_loss: 0.5785 - val_acc: 0.7278\n",
      "Epoch 23/25\n",
      "392/392 [==============================] - 4s 9ms/step - loss: 0.4972 - acc: 0.7704 - val_loss: 0.5785 - val_acc: 0.6982\n",
      "Epoch 24/25\n",
      "392/392 [==============================] - 4s 10ms/step - loss: 0.4887 - acc: 0.7857 - val_loss: 0.5820 - val_acc: 0.6982\n",
      "Epoch 25/25\n",
      "392/392 [==============================] - 4s 9ms/step - loss: 0.4820 - acc: 0.7908 - val_loss: 0.5873 - val_acc: 0.7219\n"
     ]
    }
   ],
   "source": [
    "history=model.fit(X_train,y_train, batch_size=64, epochs=epochs, validation_split=0.3, shuffle=True,verbose=1)"
   ]
  },
  {
   "cell_type": "code",
   "execution_count": 30,
   "metadata": {},
   "outputs": [
    {
     "data": {
      "image/png": "[encoded data removed]",
      "text/plain": [
       "<Figure size 432x288 with 1 Axes>"
      ]
     },
     "metadata": {
      "needs_background": "light"
     },
     "output_type": "display_data"
    }
   ],
   "source": [
    "plt.plot(history.history['acc'])\n",
    "plt.plot(history.history['val_acc'])\n",
    "plt.title('model accuracy')\n",
    "plt.ylabel('accuracy')\n",
    "plt.xlabel('epoch')\n",
    "plt.legend(['train', 'validation'], loc='upper left')\n",
    "plt.show()"
   ]
  },
  {
   "cell_type": "code",
   "execution_count": 31,
   "metadata": {},
   "outputs": [
    {
     "name": "stdout",
     "output_type": "stream",
     "text": [
      "Saved model to disk\n",
      "Test loss: 0.6134560642076686\n",
      "Test accuracy: 0.6951871676878496\n"
     ]
    }
   ],
   "source": [
    "model.save_weights(\"model.h5\")\n",
    "print(\"Saved model to disk\")\n",
    "\n",
    "#model=loaded_model.load_weights(\"model.h5\")\n",
    "#print(\"Loaded model from disk\")\n",
    "\n",
    "scores=[]\n",
    "score_emb = model.evaluate(X_test, y_test, verbose=0)\n",
    "scores.append(score_emb)\n",
    "print('Test loss:', score_emb[0])\n",
    "print('Test accuracy:', score_emb[1])\n"
   ]
  },
  {
   "cell_type": "markdown",
   "metadata": {},
   "source": [
    "#### Finetuning the model"
   ]
  },
  {
   "cell_type": "code",
   "execution_count": 32,
   "metadata": {},
   "outputs": [
    {
     "name": "stdout",
     "output_type": "stream",
     "text": [
      "_________________________________________________________________\n",
      "Layer (type)                 Output Shape              Param #   \n",
      "=================================================================\n",
      "embedding_2 (Embedding)      (None, 1390, 100)         265200    \n",
      "_________________________________________________________________\n",
      "gru_2 (GRU)                  (None, 16)                5616      \n",
      "_________________________________________________________________\n",
      "dense_2 (Dense)              (None, 1)                 17        \n",
      "=================================================================\n",
      "Total params: 270,833\n",
      "Trainable params: 270,833\n",
      "Non-trainable params: 0\n",
      "_________________________________________________________________\n",
      "Train on 448 samples, validate on 113 samples\n",
      "Epoch 1/25\n",
      "448/448 [==============================] - 9s 20ms/step - loss: 0.6608 - acc: 0.5960 - val_loss: 0.6574 - val_acc: 0.5752\n",
      "Epoch 2/25\n",
      "448/448 [==============================] - 7s 15ms/step - loss: 0.6255 - acc: 0.6741 - val_loss: 0.6476 - val_acc: 0.5929\n",
      "Epoch 3/25\n",
      "448/448 [==============================] - 8s 17ms/step - loss: 0.6048 - acc: 0.6719 - val_loss: 0.6370 - val_acc: 0.6195\n",
      "Epoch 4/25\n",
      "448/448 [==============================] - 8s 17ms/step - loss: 0.5830 - acc: 0.7076 - val_loss: 0.6285 - val_acc: 0.6106\n",
      "Epoch 5/25\n",
      "448/448 [==============================] - 8s 17ms/step - loss: 0.5630 - acc: 0.7299 - val_loss: 0.6222 - val_acc: 0.6195\n",
      "Epoch 6/25\n",
      "448/448 [==============================] - 8s 17ms/step - loss: 0.5416 - acc: 0.7545 - val_loss: 0.6161 - val_acc: 0.6283\n",
      "Epoch 7/25\n",
      "448/448 [==============================] - 8s 17ms/step - loss: 0.5199 - acc: 0.7835 - val_loss: 0.6097 - val_acc: 0.6283\n",
      "Epoch 8/25\n",
      "448/448 [==============================] - 8s 17ms/step - loss: 0.4965 - acc: 0.8058 - val_loss: 0.6037 - val_acc: 0.6549\n",
      "Epoch 9/25\n",
      "448/448 [==============================] - 8s 17ms/step - loss: 0.4708 - acc: 0.8214 - val_loss: 0.5985 - val_acc: 0.6549\n",
      "Epoch 10/25\n",
      "448/448 [==============================] - 8s 17ms/step - loss: 0.4435 - acc: 0.8415 - val_loss: 0.5915 - val_acc: 0.6814\n",
      "Epoch 11/25\n",
      "448/448 [==============================] - 7s 17ms/step - loss: 0.4141 - acc: 0.8527 - val_loss: 0.5868 - val_acc: 0.6726\n",
      "Epoch 12/25\n",
      "448/448 [==============================] - 7s 16ms/step - loss: 0.3793 - acc: 0.8683 - val_loss: 0.5789 - val_acc: 0.6726\n",
      "Epoch 13/25\n",
      "448/448 [==============================] - 7s 16ms/step - loss: 0.3436 - acc: 0.8772 - val_loss: 0.5687 - val_acc: 0.6903\n",
      "Epoch 14/25\n",
      "448/448 [==============================] - 4s 9ms/step - loss: 0.3031 - acc: 0.8929 - val_loss: 0.5609 - val_acc: 0.6726\n",
      "Epoch 15/25\n",
      "448/448 [==============================] - 4s 9ms/step - loss: 0.2608 - acc: 0.9196 - val_loss: 0.5454 - val_acc: 0.7168\n",
      "Epoch 16/25\n",
      "448/448 [==============================] - 5s 11ms/step - loss: 0.2186 - acc: 0.9420 - val_loss: 0.5331 - val_acc: 0.7080\n",
      "Epoch 17/25\n",
      "448/448 [==============================] - 7s 17ms/step - loss: 0.1763 - acc: 0.9576 - val_loss: 0.5218 - val_acc: 0.7345\n",
      "Epoch 18/25\n",
      "448/448 [==============================] - 8s 17ms/step - loss: 0.1424 - acc: 0.9643 - val_loss: 0.5217 - val_acc: 0.7345\n",
      "Epoch 19/25\n",
      "448/448 [==============================] - 7s 16ms/step - loss: 0.1150 - acc: 0.9710 - val_loss: 0.5253 - val_acc: 0.7611\n",
      "Epoch 20/25\n",
      "448/448 [==============================] - 8s 17ms/step - loss: 0.0924 - acc: 0.9844 - val_loss: 0.5358 - val_acc: 0.7611\n",
      "Epoch 21/25\n",
      "448/448 [==============================] - 7s 17ms/step - loss: 0.0774 - acc: 0.9888 - val_loss: 0.5573 - val_acc: 0.7434\n",
      "Epoch 22/25\n",
      "448/448 [==============================] - 7s 16ms/step - loss: 0.0655 - acc: 0.9933 - val_loss: 0.5513 - val_acc: 0.7699\n",
      "Epoch 23/25\n",
      "448/448 [==============================] - 8s 17ms/step - loss: 0.0522 - acc: 0.9955 - val_loss: 0.5736 - val_acc: 0.7611\n",
      "Epoch 24/25\n",
      "448/448 [==============================] - 7s 17ms/step - loss: 0.0431 - acc: 0.9978 - val_loss: 0.5823 - val_acc: 0.7611\n",
      "Epoch 25/25\n",
      "448/448 [==============================] - 7s 16ms/step - loss: 0.0356 - acc: 0.9978 - val_loss: 0.5862 - val_acc: 0.7699\n",
      "Test loss: 0.5404806961031521\n",
      "Test accuracy: 0.7807486618266386\n"
     ]
    }
   ],
   "source": [
    "model2=Sequential()\n",
    "embedding_layer=Embedding(num_words, #size of vocab\n",
    "                         emb, #size of embedding \n",
    "                         embeddings_initializer=Constant(embedding_matrix), #weights to start with, and not nouch during training\n",
    "                         input_length=longestsentence, \n",
    "                         trainable=True  # do no update these weights\n",
    "                         )\n",
    "model2.add(embedding_layer)\n",
    "model2.add(GRU(16))#,dropout=0.1, recurrent_dropout=0.1\n",
    "model2.add(Dense(1, activation=\"sigmoid\"))\n",
    "model2.compile(loss=\"binary_crossentropy\", optimizer=\"adam\", metrics=[\"accuracy\"])\n",
    "model2.summary()\n",
    "\n",
    "history2=model2.fit(X_train,y_train, batch_size=64, epochs=epochs, validation_split=0.2, verbose=1)\n",
    "score_fine = model2.evaluate(X_test, y_test, verbose=0)\n",
    "scores.append(score_fine)\n",
    "print('Test loss:', score_fine[0])\n",
    "print('Test accuracy:', score_fine[1])"
   ]
  },
  {
   "cell_type": "code",
   "execution_count": 33,
   "metadata": {},
   "outputs": [
    {
     "data": {
      "image/png": "[encoded data removed]",
      "text/plain": [
       "<Figure size 432x288 with 1 Axes>"
      ]
     },
     "metadata": {
      "needs_background": "light"
     },
     "output_type": "display_data"
    },
    {
     "name": "stdout",
     "output_type": "stream",
     "text": [
      "Saved model to disk\n"
     ]
    }
   ],
   "source": [
    "plt.plot(history2.history['acc'])\n",
    "plt.plot(history2.history['val_acc'])\n",
    "plt.title('model accuracy')\n",
    "plt.ylabel('accuracy')\n",
    "plt.xlabel('epoch')\n",
    "plt.legend(['train', 'validation'], loc='upper left')\n",
    "plt.show()\n",
    "\n",
    "model.save_weights(\"model2.h5\")\n",
    "print(\"Saved model to disk\")\n",
    "\n",
    "#model2=loaded_model.load_weights(\"model2.h5\")\n",
    "#print(\"Loaded model from disk\")"
   ]
  },
  {
   "cell_type": "markdown",
   "metadata": {},
   "source": [
    "Let's try to do proper finetuning by transfering the GRU weights. Additionally we know we might overfit, so we will add some dropout."
   ]
  },
  {
   "cell_type": "code",
   "execution_count": 34,
   "metadata": {},
   "outputs": [],
   "source": [
    "GRUw = model.layers[1].get_weights()\n",
    "#install tf-nightly"
   ]
  },
  {
   "cell_type": "code",
   "execution_count": 35,
   "metadata": {},
   "outputs": [
    {
     "name": "stdout",
     "output_type": "stream",
     "text": [
      "_________________________________________________________________\n",
      "Layer (type)                 Output Shape              Param #   \n",
      "=================================================================\n",
      "embedding_3 (Embedding)      (None, 1390, 100)         265200    \n",
      "_________________________________________________________________\n",
      "gru_3 (GRU)                  (None, 16)                5616      \n",
      "_________________________________________________________________\n",
      "dense_3 (Dense)              (None, 1)                 17        \n",
      "=================================================================\n",
      "Total params: 270,833\n",
      "Trainable params: 270,833\n",
      "Non-trainable params: 0\n",
      "_________________________________________________________________\n",
      "Train on 448 samples, validate on 113 samples\n",
      "Epoch 1/25\n",
      "448/448 [==============================] - 9s 20ms/step - loss: 0.8474 - acc: 0.3661 - val_loss: 0.7937 - val_acc: 0.4513\n",
      "Epoch 2/25\n",
      "448/448 [==============================] - 7s 16ms/step - loss: 0.7578 - acc: 0.4375 - val_loss: 0.7470 - val_acc: 0.4956\n",
      "Epoch 3/25\n",
      "448/448 [==============================] - 8s 17ms/step - loss: 0.6964 - acc: 0.5335 - val_loss: 0.7098 - val_acc: 0.5221\n",
      "Epoch 4/25\n",
      "448/448 [==============================] - 8s 17ms/step - loss: 0.6512 - acc: 0.6161 - val_loss: 0.6827 - val_acc: 0.5752\n",
      "Epoch 5/25\n",
      "448/448 [==============================] - 8s 17ms/step - loss: 0.6164 - acc: 0.6875 - val_loss: 0.6629 - val_acc: 0.5841\n",
      "Epoch 6/25\n",
      "448/448 [==============================] - 8s 17ms/step - loss: 0.5894 - acc: 0.7277 - val_loss: 0.6477 - val_acc: 0.6283\n",
      "Epoch 7/25\n",
      "448/448 [==============================] - 7s 17ms/step - loss: 0.5643 - acc: 0.7433 - val_loss: 0.6377 - val_acc: 0.6195\n",
      "Epoch 8/25\n",
      "448/448 [==============================] - 8s 17ms/step - loss: 0.5419 - acc: 0.7679 - val_loss: 0.6282 - val_acc: 0.6195\n",
      "Epoch 9/25\n",
      "448/448 [==============================] - 7s 16ms/step - loss: 0.5200 - acc: 0.7924 - val_loss: 0.6207 - val_acc: 0.6372\n",
      "Epoch 10/25\n",
      "448/448 [==============================] - 8s 17ms/step - loss: 0.4988 - acc: 0.8103 - val_loss: 0.6134 - val_acc: 0.6549\n",
      "Epoch 11/25\n",
      "448/448 [==============================] - 8s 17ms/step - loss: 0.4770 - acc: 0.8214 - val_loss: 0.6077 - val_acc: 0.6637\n",
      "Epoch 12/25\n",
      "448/448 [==============================] - 7s 15ms/step - loss: 0.4546 - acc: 0.8348 - val_loss: 0.6021 - val_acc: 0.6460\n",
      "Epoch 13/25\n",
      "448/448 [==============================] - 8s 17ms/step - loss: 0.4311 - acc: 0.8527 - val_loss: 0.5975 - val_acc: 0.6549\n",
      "Epoch 14/25\n",
      "448/448 [==============================] - 8s 17ms/step - loss: 0.4074 - acc: 0.8638 - val_loss: 0.5951 - val_acc: 0.6549\n",
      "Epoch 15/25\n",
      "448/448 [==============================] - 8s 17ms/step - loss: 0.3821 - acc: 0.8705 - val_loss: 0.5916 - val_acc: 0.6549\n",
      "Epoch 16/25\n",
      "448/448 [==============================] - 8s 17ms/step - loss: 0.3559 - acc: 0.8951 - val_loss: 0.5885 - val_acc: 0.6460\n",
      "Epoch 17/25\n",
      "448/448 [==============================] - 8s 17ms/step - loss: 0.3295 - acc: 0.8996 - val_loss: 0.5874 - val_acc: 0.6726\n",
      "Epoch 18/25\n",
      "448/448 [==============================] - 8s 17ms/step - loss: 0.3021 - acc: 0.9196 - val_loss: 0.5884 - val_acc: 0.6726\n",
      "Epoch 19/25\n",
      "448/448 [==============================] - 7s 17ms/step - loss: 0.2746 - acc: 0.9308 - val_loss: 0.5894 - val_acc: 0.6637\n",
      "Epoch 20/25\n",
      "448/448 [==============================] - 8s 17ms/step - loss: 0.2477 - acc: 0.9330 - val_loss: 0.5924 - val_acc: 0.6637\n",
      "Epoch 21/25\n",
      "448/448 [==============================] - 8s 17ms/step - loss: 0.2193 - acc: 0.9464 - val_loss: 0.5956 - val_acc: 0.6726\n",
      "Epoch 22/25\n",
      "448/448 [==============================] - 8s 17ms/step - loss: 0.1940 - acc: 0.9643 - val_loss: 0.6012 - val_acc: 0.6814\n",
      "Epoch 23/25\n",
      "448/448 [==============================] - 8s 17ms/step - loss: 0.1692 - acc: 0.9688 - val_loss: 0.6012 - val_acc: 0.6991\n",
      "Epoch 24/25\n",
      "448/448 [==============================] - 8s 17ms/step - loss: 0.1440 - acc: 0.9754 - val_loss: 0.6087 - val_acc: 0.6814\n",
      "Epoch 25/25\n",
      "448/448 [==============================] - 7s 16ms/step - loss: 0.1225 - acc: 0.9821 - val_loss: 0.6033 - val_acc: 0.6814\n",
      "Test loss: 0.5404806961031521\n",
      "Test accuracy: 0.7807486618266386\n"
     ]
    }
   ],
   "source": [
    "from keras.layers import Dropout\n",
    "\n",
    "model2=Sequential()\n",
    "embedding_layer=Embedding(num_words, #size of vocab\n",
    "                         emb, #size of embedding \n",
    "                         embeddings_initializer=Constant(embedding_matrix), #weights to start with, and not nouch during training\n",
    "                         input_length=longestsentence, \n",
    "                         trainable=True  # do no update these weights\n",
    "                         )\n",
    "model2.add(embedding_layer)\n",
    "#model2.add(Dropout(0.2))\n",
    "model2.add(GRU(16,weights=GRUw)) #  dropout=0.1, recurrent_dropout=0.1, for recurring unit and recurrant state\n",
    "model2.add(Dense(1, activation=\"sigmoid\"))\n",
    "model2.compile(loss=\"binary_crossentropy\", optimizer=\"adam\", metrics=[\"accuracy\"])\n",
    "model2.summary()\n",
    "\n",
    "history2=model2.fit(X_train,y_train, batch_size=64, epochs=epochs, validation_split=0.2, verbose=1)\n",
    "score_fine_proper = model2.evaluate(X_test, y_test, verbose=0)\n",
    "scores.append(score_fine_proper)\n",
    "print('Test loss:', score_fine[0])\n",
    "print('Test accuracy:', score_fine[1])"
   ]
  },
  {
   "cell_type": "code",
   "execution_count": 36,
   "metadata": {},
   "outputs": [
    {
     "name": "stdout",
     "output_type": "stream",
     "text": [
      "Saved model to disk\n"
     ]
    }
   ],
   "source": [
    "model2.save_weights(\"model.h5\")\n",
    "print(\"Saved model to disk\")\n",
    "\n",
    "#model=loaded_model.load_weights(\"model.h5\")\n",
    "#print(\"Loaded model from disk\")"
   ]
  },
  {
   "cell_type": "markdown",
   "metadata": {},
   "source": [
    "### Loading pretrained weights\n",
    "Building your own embeddings might not be the smartest thing. In case the vocabulary you will be working with is not too specific, you can always use the pretrained embeddings. GloVe stands for \"Global Vectors for Word Representation\". It's a somewhat popular embedding technique based on factorizing a matrix of word co-occurence statistics (https://nlp.stanford.edu/projects/glove/). Often you get to choose the length of pretrained embeddings, we will stick to 100."
   ]
  },
  {
   "cell_type": "code",
   "execution_count": 38,
   "metadata": {},
   "outputs": [
    {
     "name": "stdout",
     "output_type": "stream",
     "text": [
      "Found 400000 word vectors.\n"
     ]
    }
   ],
   "source": [
    "embeddings_index = {}\n",
    "f = open('glove.6B.100d.txt',encoding=\"utf8\")\n",
    "for line in f:\n",
    "    values = line.split()\n",
    "    word = values[0]\n",
    "    coefs = np.asarray(values[1:], dtype='float32')\n",
    "    embeddings_index[word] = coefs\n",
    "f.close()\n",
    "\n",
    "print('Found %s word vectors.' % len(embeddings_index))"
   ]
  },
  {
   "cell_type": "code",
   "execution_count": 39,
   "metadata": {},
   "outputs": [],
   "source": [
    "gloved = np.zeros((len(word_index) + 1, emb))\n",
    "for word, i in word_index.items():\n",
    "    embedding_vector = embeddings_index.get(word)\n",
    "    if embedding_vector is not None:\n",
    "        # words not found in embedding index will be all-zeros.\n",
    "        gloved[i] = embedding_vector"
   ]
  },
  {
   "cell_type": "code",
   "execution_count": 40,
   "metadata": {},
   "outputs": [
    {
     "name": "stdout",
     "output_type": "stream",
     "text": [
      "_________________________________________________________________\n",
      "Layer (type)                 Output Shape              Param #   \n",
      "=================================================================\n",
      "embedding_4 (Embedding)      (None, 1390, 100)         265200    \n",
      "_________________________________________________________________\n",
      "gru_4 (GRU)                  (None, 16)                5616      \n",
      "_________________________________________________________________\n",
      "dense_4 (Dense)              (None, 1)                 17        \n",
      "=================================================================\n",
      "Total params: 270,833\n",
      "Trainable params: 5,633\n",
      "Non-trainable params: 265,200\n",
      "_________________________________________________________________\n",
      "Train on 448 samples, validate on 113 samples\n",
      "Epoch 1/25\n",
      "448/448 [==============================] - 6s 14ms/step - loss: 0.6701 - acc: 0.6004 - val_loss: 0.6713 - val_acc: 0.5929\n",
      "Epoch 2/25\n",
      "448/448 [==============================] - 5s 11ms/step - loss: 0.6554 - acc: 0.5915 - val_loss: 0.6628 - val_acc: 0.5841\n",
      "Epoch 3/25\n",
      "448/448 [==============================] - 5s 11ms/step - loss: 0.6429 - acc: 0.6094 - val_loss: 0.6537 - val_acc: 0.6283\n",
      "Epoch 4/25\n",
      "448/448 [==============================] - 4s 10ms/step - loss: 0.6291 - acc: 0.6674 - val_loss: 0.6480 - val_acc: 0.6195\n",
      "Epoch 5/25\n",
      "448/448 [==============================] - 5s 11ms/step - loss: 0.6179 - acc: 0.6652 - val_loss: 0.6389 - val_acc: 0.6372\n",
      "Epoch 6/25\n",
      "448/448 [==============================] - 5s 11ms/step - loss: 0.6071 - acc: 0.6763 - val_loss: 0.6311 - val_acc: 0.6372\n",
      "Epoch 7/25\n",
      "448/448 [==============================] - 4s 10ms/step - loss: 0.5966 - acc: 0.6964 - val_loss: 0.6226 - val_acc: 0.6549\n",
      "Epoch 8/25\n",
      "448/448 [==============================] - 4s 10ms/step - loss: 0.5857 - acc: 0.7054 - val_loss: 0.6159 - val_acc: 0.6726\n",
      "Epoch 9/25\n",
      "448/448 [==============================] - 5s 11ms/step - loss: 0.5743 - acc: 0.7299 - val_loss: 0.6063 - val_acc: 0.6549\n",
      "Epoch 10/25\n",
      "448/448 [==============================] - 6s 12ms/step - loss: 0.5613 - acc: 0.7433 - val_loss: 0.5974 - val_acc: 0.6726\n",
      "Epoch 11/25\n",
      "448/448 [==============================] - 5s 12ms/step - loss: 0.5492 - acc: 0.7344 - val_loss: 0.5894 - val_acc: 0.6903\n",
      "Epoch 12/25\n",
      "448/448 [==============================] - 6s 12ms/step - loss: 0.5329 - acc: 0.7522 - val_loss: 0.5769 - val_acc: 0.6903\n",
      "Epoch 13/25\n",
      "448/448 [==============================] - 6s 14ms/step - loss: 0.5174 - acc: 0.7679 - val_loss: 0.5638 - val_acc: 0.6991\n",
      "Epoch 14/25\n",
      "448/448 [==============================] - 4s 10ms/step - loss: 0.5019 - acc: 0.7835 - val_loss: 0.5530 - val_acc: 0.6726\n",
      "Epoch 15/25\n",
      "448/448 [==============================] - 6s 12ms/step - loss: 0.4829 - acc: 0.7879 - val_loss: 0.5364 - val_acc: 0.7168\n",
      "Epoch 16/25\n",
      "448/448 [==============================] - 6s 13ms/step - loss: 0.4621 - acc: 0.8080 - val_loss: 0.5210 - val_acc: 0.7168\n",
      "Epoch 17/25\n",
      "448/448 [==============================] - 6s 12ms/step - loss: 0.4391 - acc: 0.8147 - val_loss: 0.5062 - val_acc: 0.7168\n",
      "Epoch 18/25\n",
      "448/448 [==============================] - 5s 12ms/step - loss: 0.4180 - acc: 0.8281 - val_loss: 0.4860 - val_acc: 0.7257\n",
      "Epoch 19/25\n",
      "448/448 [==============================] - 6s 13ms/step - loss: 0.3945 - acc: 0.8304 - val_loss: 0.4773 - val_acc: 0.7257\n",
      "Epoch 20/25\n",
      "448/448 [==============================] - 6s 13ms/step - loss: 0.3838 - acc: 0.8348 - val_loss: 0.4585 - val_acc: 0.7434\n",
      "Epoch 21/25\n",
      "448/448 [==============================] - 6s 13ms/step - loss: 0.3658 - acc: 0.8460 - val_loss: 0.4818 - val_acc: 0.7522\n",
      "Epoch 22/25\n",
      "448/448 [==============================] - 6s 14ms/step - loss: 0.3612 - acc: 0.8482 - val_loss: 0.4470 - val_acc: 0.7434\n",
      "Epoch 23/25\n",
      "448/448 [==============================] - 6s 13ms/step - loss: 0.3235 - acc: 0.8728 - val_loss: 0.4612 - val_acc: 0.7611\n",
      "Epoch 24/25\n",
      "448/448 [==============================] - 6s 13ms/step - loss: 0.3112 - acc: 0.8862 - val_loss: 0.4423 - val_acc: 0.7611\n",
      "Epoch 25/25\n",
      "448/448 [==============================] - 6s 13ms/step - loss: 0.2942 - acc: 0.8951 - val_loss: 0.4461 - val_acc: 0.7522\n",
      "Test loss: 0.4137591690940653\n",
      "Test accuracy: 0.8395721902821791\n"
     ]
    }
   ],
   "source": [
    "embedding_layer2 = Embedding(num_words,\n",
    "                            emb,\n",
    "                            weights=[gloved],\n",
    "                            input_length=longestsentence,\n",
    "                            trainable=False)\n",
    "model3=Sequential()\n",
    "model3.add(embedding_layer2)\n",
    "#model3.add(Dropout(0.25))\n",
    "model3.add(GRU(16))\n",
    "#model3.add(Dropout(0.25))\n",
    "model3.add(Dense(1, activation=\"sigmoid\"))\n",
    "model3.compile(loss=\"binary_crossentropy\", optimizer=\"adam\", metrics=[\"accuracy\"])\n",
    "model3.summary()\n",
    "\n",
    "history3=model3.fit(X_train,y_train, batch_size=64, epochs=epochs, validation_split=0.2, verbose=1)\n",
    "\n",
    "\n",
    "score_gl = model3.evaluate(X_test, y_test, verbose=0)\n",
    "scores.append(score_gl)\n",
    "print('Test loss:', score_gl[0])\n",
    "print('Test accuracy:', score_gl[1])"
   ]
  },
  {
   "cell_type": "code",
   "execution_count": 41,
   "metadata": {},
   "outputs": [],
   "source": [
    "#0.83"
   ]
  },
  {
   "cell_type": "markdown",
   "metadata": {},
   "source": [
    "Let's see if fine-tuning will help us (allow model to keep changing the embeddings)"
   ]
  },
  {
   "cell_type": "code",
   "execution_count": 42,
   "metadata": {},
   "outputs": [
    {
     "name": "stdout",
     "output_type": "stream",
     "text": [
      "_________________________________________________________________\n",
      "Layer (type)                 Output Shape              Param #   \n",
      "=================================================================\n",
      "embedding_5 (Embedding)      (None, 1390, 100)         265200    \n",
      "_________________________________________________________________\n",
      "gru_5 (GRU)                  (None, 16)                5616      \n",
      "_________________________________________________________________\n",
      "dropout_1 (Dropout)          (None, 16)                0         \n",
      "_________________________________________________________________\n",
      "dense_5 (Dense)              (None, 1)                 17        \n",
      "=================================================================\n",
      "Total params: 270,833\n",
      "Trainable params: 270,833\n",
      "Non-trainable params: 0\n",
      "_________________________________________________________________\n",
      "Train on 448 samples, validate on 113 samples\n",
      "Epoch 1/25\n",
      "448/448 [==============================] - 10s 21ms/step - loss: 1.2179 - acc: 0.2076 - val_loss: 0.9657 - val_acc: 0.2832\n",
      "Epoch 2/25\n",
      "448/448 [==============================] - 9s 19ms/step - loss: 0.9772 - acc: 0.3482 - val_loss: 0.8432 - val_acc: 0.4602\n",
      "Epoch 3/25\n",
      "448/448 [==============================] - 9s 19ms/step - loss: 0.8823 - acc: 0.4129 - val_loss: 0.7821 - val_acc: 0.4690\n",
      "Epoch 4/25\n",
      "448/448 [==============================] - 9s 19ms/step - loss: 0.8091 - acc: 0.4621 - val_loss: 0.7438 - val_acc: 0.4956\n",
      "Epoch 5/25\n",
      "448/448 [==============================] - 9s 20ms/step - loss: 0.7589 - acc: 0.4710 - val_loss: 0.7163 - val_acc: 0.5044\n",
      "Epoch 6/25\n",
      "448/448 [==============================] - 9s 20ms/step - loss: 0.7486 - acc: 0.4821 - val_loss: 0.6956 - val_acc: 0.5221\n",
      "Epoch 7/25\n",
      "448/448 [==============================] - 9s 19ms/step - loss: 0.7092 - acc: 0.5469 - val_loss: 0.6788 - val_acc: 0.5752\n",
      "Epoch 8/25\n",
      "448/448 [==============================] - 9s 19ms/step - loss: 0.6884 - acc: 0.5402 - val_loss: 0.6654 - val_acc: 0.5929\n",
      "Epoch 9/25\n",
      "448/448 [==============================] - 9s 20ms/step - loss: 0.6539 - acc: 0.6272 - val_loss: 0.6531 - val_acc: 0.5841\n",
      "Epoch 10/25\n",
      "448/448 [==============================] - 8s 18ms/step - loss: 0.6516 - acc: 0.6205 - val_loss: 0.6427 - val_acc: 0.6195\n",
      "Epoch 11/25\n",
      "448/448 [==============================] - 7s 16ms/step - loss: 0.6233 - acc: 0.6518 - val_loss: 0.6301 - val_acc: 0.6106\n",
      "Epoch 12/25\n",
      "448/448 [==============================] - 9s 19ms/step - loss: 0.6203 - acc: 0.6629 - val_loss: 0.6170 - val_acc: 0.6106\n",
      "Epoch 13/25\n",
      "448/448 [==============================] - 9s 20ms/step - loss: 0.5846 - acc: 0.7031 - val_loss: 0.6041 - val_acc: 0.6549\n",
      "Epoch 14/25\n",
      "448/448 [==============================] - 9s 20ms/step - loss: 0.5581 - acc: 0.7388 - val_loss: 0.5944 - val_acc: 0.6637\n",
      "Epoch 15/25\n",
      "448/448 [==============================] - 9s 19ms/step - loss: 0.5504 - acc: 0.7500 - val_loss: 0.5819 - val_acc: 0.6726\n",
      "Epoch 16/25\n",
      "448/448 [==============================] - 9s 19ms/step - loss: 0.5142 - acc: 0.7790 - val_loss: 0.5703 - val_acc: 0.6903\n",
      "Epoch 17/25\n",
      "448/448 [==============================] - 8s 19ms/step - loss: 0.5034 - acc: 0.7924 - val_loss: 0.5582 - val_acc: 0.7080\n",
      "Epoch 18/25\n",
      "448/448 [==============================] - 9s 20ms/step - loss: 0.4765 - acc: 0.8214 - val_loss: 0.5433 - val_acc: 0.7257\n",
      "Epoch 19/25\n",
      "448/448 [==============================] - 9s 19ms/step - loss: 0.4572 - acc: 0.8192 - val_loss: 0.5307 - val_acc: 0.7257\n",
      "Epoch 20/25\n",
      "448/448 [==============================] - 9s 20ms/step - loss: 0.4249 - acc: 0.8527 - val_loss: 0.5141 - val_acc: 0.7522\n",
      "Epoch 21/25\n",
      "448/448 [==============================] - 9s 20ms/step - loss: 0.3974 - acc: 0.8862 - val_loss: 0.5001 - val_acc: 0.7522\n",
      "Epoch 22/25\n",
      "448/448 [==============================] - 9s 20ms/step - loss: 0.3771 - acc: 0.8929 - val_loss: 0.4869 - val_acc: 0.7522\n",
      "Epoch 23/25\n",
      "448/448 [==============================] - 9s 19ms/step - loss: 0.3392 - acc: 0.9040 - val_loss: 0.4825 - val_acc: 0.7434\n",
      "Epoch 24/25\n",
      "448/448 [==============================] - 9s 20ms/step - loss: 0.3401 - acc: 0.8817 - val_loss: 0.4633 - val_acc: 0.7699\n",
      "Epoch 25/25\n",
      "448/448 [==============================] - 9s 20ms/step - loss: 0.3105 - acc: 0.9174 - val_loss: 0.4450 - val_acc: 0.7876\n",
      "Test loss: 0.4417958149616731\n",
      "Test accuracy: 0.8128342223677406\n"
     ]
    }
   ],
   "source": [
    "GRUglo= model3.layers[1].get_weights()\n",
    "embedding_layer4 = Embedding(num_words,\n",
    "                            emb,\n",
    "                            weights=[gloved],\n",
    "                            input_length=longestsentence,\n",
    "                            trainable=True)\n",
    "model4=Sequential()\n",
    "model4.add(embedding_layer4)\n",
    "model4.add(GRU(16,weights=GRUglo, dropout=0.1, recurrent_dropout=0.1 ))\n",
    "model4.add(Dropout(0.25))\n",
    "model4.add(Dense(1, activation=\"sigmoid\"))\n",
    "model4.compile(loss=\"binary_crossentropy\", optimizer=\"adam\", metrics=[\"accuracy\"])\n",
    "model4.summary()\n",
    "\n",
    "\n",
    "history4=model4.fit(X_train,y_train, batch_size=64, epochs=epochs, validation_split=0.2, verbose=1)\n",
    "\n",
    "\n",
    "score_glfine = model4.evaluate(X_test, y_test, verbose=0)\n",
    "scores.append(score_glfine)\n",
    "print('Test loss:', score_glfine[0])\n",
    "print('Test accuracy:', score_glfine[1])"
   ]
  },
  {
   "cell_type": "code",
   "execution_count": null,
   "metadata": {},
   "outputs": [],
   "source": [
    "#0.866"
   ]
  },
  {
   "cell_type": "markdown",
   "metadata": {},
   "source": [
    "### Bidirectional example"
   ]
  },
  {
   "cell_type": "code",
   "execution_count": 43,
   "metadata": {},
   "outputs": [
    {
     "name": "stdout",
     "output_type": "stream",
     "text": [
      "_________________________________________________________________\n",
      "Layer (type)                 Output Shape              Param #   \n",
      "=================================================================\n",
      "embedding_5 (Embedding)      (None, 1390, 100)         265200    \n",
      "_________________________________________________________________\n",
      "bidirectional_1 (Bidirection (None, 1390, 64)          34048     \n",
      "_________________________________________________________________\n",
      "bidirectional_2 (Bidirection (None, 32)                10368     \n",
      "_________________________________________________________________\n",
      "dense_6 (Dense)              (None, 1)                 33        \n",
      "=================================================================\n",
      "Total params: 309,649\n",
      "Trainable params: 309,649\n",
      "Non-trainable params: 0\n",
      "_________________________________________________________________\n",
      "None\n",
      "Train on 448 samples, validate on 113 samples\n",
      "Epoch 1/25\n",
      "448/448 [==============================] - 31s 68ms/step - loss: 0.6984 - acc: 0.4777 - val_loss: 0.6885 - val_acc: 0.5133\n",
      "Epoch 2/25\n",
      "448/448 [==============================] - 25s 55ms/step - loss: 0.6736 - acc: 0.5670 - val_loss: 0.6765 - val_acc: 0.5398\n",
      "Epoch 3/25\n",
      "448/448 [==============================] - 25s 55ms/step - loss: 0.6499 - acc: 0.6830 - val_loss: 0.6563 - val_acc: 0.6106\n",
      "Epoch 4/25\n",
      "448/448 [==============================] - 17s 39ms/step - loss: 0.6037 - acc: 0.7612 - val_loss: 0.6110 - val_acc: 0.7345\n",
      "Epoch 5/25\n",
      "448/448 [==============================] - 24s 53ms/step - loss: 0.5187 - acc: 0.8259 - val_loss: 0.5807 - val_acc: 0.6903\n",
      "Epoch 6/25\n",
      "448/448 [==============================] - 26s 59ms/step - loss: 0.4527 - acc: 0.8170 - val_loss: 0.5281 - val_acc: 0.7699\n",
      "Epoch 7/25\n",
      "448/448 [==============================] - 26s 58ms/step - loss: 0.3500 - acc: 0.8884 - val_loss: 0.4946 - val_acc: 0.7699\n",
      "Epoch 8/25\n",
      "448/448 [==============================] - 27s 59ms/step - loss: 0.2667 - acc: 0.9330 - val_loss: 0.4850 - val_acc: 0.8142\n",
      "Epoch 9/25\n",
      "448/448 [==============================] - 26s 58ms/step - loss: 0.2081 - acc: 0.9531 - val_loss: 0.4810 - val_acc: 0.7965\n",
      "Epoch 10/25\n",
      "448/448 [==============================] - 17s 38ms/step - loss: 0.1735 - acc: 0.9598 - val_loss: 0.5195 - val_acc: 0.7965\n",
      "Epoch 11/25\n",
      "448/448 [==============================] - 17s 38ms/step - loss: 0.1321 - acc: 0.9710 - val_loss: 0.6146 - val_acc: 0.7611\n",
      "Epoch 12/25\n",
      "448/448 [==============================] - 27s 59ms/step - loss: 0.1120 - acc: 0.9777 - val_loss: 0.5100 - val_acc: 0.8230\n",
      "Epoch 13/25\n",
      "448/448 [==============================] - 26s 58ms/step - loss: 0.1073 - acc: 0.9754 - val_loss: 0.6956 - val_acc: 0.7611\n",
      "Epoch 14/25\n",
      "448/448 [==============================] - 27s 61ms/step - loss: 0.1151 - acc: 0.9754 - val_loss: 0.6655 - val_acc: 0.7699\n",
      "Epoch 15/25\n",
      "448/448 [==============================] - 28s 62ms/step - loss: 0.0894 - acc: 0.9799 - val_loss: 0.6269 - val_acc: 0.8053\n",
      "Epoch 16/25\n",
      "448/448 [==============================] - 28s 62ms/step - loss: 0.0882 - acc: 0.9799 - val_loss: 0.6838 - val_acc: 0.7611\n",
      "Epoch 17/25\n",
      "448/448 [==============================] - 27s 61ms/step - loss: 0.0861 - acc: 0.9821 - val_loss: 0.5613 - val_acc: 0.8053\n",
      "Epoch 18/25\n",
      "448/448 [==============================] - 28s 63ms/step - loss: 0.0758 - acc: 0.9844 - val_loss: 0.6599 - val_acc: 0.7876\n",
      "Epoch 19/25\n",
      "448/448 [==============================] - 29s 64ms/step - loss: 0.0809 - acc: 0.9799 - val_loss: 0.7055 - val_acc: 0.7876\n",
      "Epoch 20/25\n",
      "448/448 [==============================] - 28s 63ms/step - loss: 0.0645 - acc: 0.9888 - val_loss: 0.5892 - val_acc: 0.8230\n",
      "Epoch 21/25\n",
      "448/448 [==============================] - 28s 63ms/step - loss: 0.0639 - acc: 0.9888 - val_loss: 0.5848 - val_acc: 0.8407\n",
      "Epoch 22/25\n",
      "448/448 [==============================] - 20s 44ms/step - loss: 0.0846 - acc: 0.9821 - val_loss: 0.5555 - val_acc: 0.8496\n",
      "Epoch 23/25\n",
      "448/448 [==============================] - 22s 49ms/step - loss: 0.0828 - acc: 0.9777 - val_loss: 0.6252 - val_acc: 0.8230\n",
      "Epoch 24/25\n",
      "448/448 [==============================] - 27s 61ms/step - loss: 0.1771 - acc: 0.9464 - val_loss: 0.8942 - val_acc: 0.6991\n",
      "Epoch 25/25\n",
      "448/448 [==============================] - 28s 62ms/step - loss: 0.1234 - acc: 0.9598 - val_loss: 0.8892 - val_acc: 0.7345\n",
      "Test loss: 0.7745109834773017\n",
      "Test accuracy: 0.7486631057479165\n"
     ]
    }
   ],
   "source": [
    "from keras.layers import Bidirectional\n",
    "\n",
    "model5 = Sequential()\n",
    "model5.add(embedding_layer4)#embeddings are trained\n",
    "model5.add(Bidirectional(LSTM(32, return_sequences=True)))\n",
    "model5.add(Bidirectional(LSTM(16)))\n",
    "#model5.add(Dropout(0.25))\n",
    "model5.add(Dense(units=1, activation='sigmoid'))\n",
    "model5.compile(loss=\"binary_crossentropy\", optimizer=\"adam\", metrics=[\"accuracy\"])\n",
    "\n",
    "print(model5.summary())\n",
    "\n",
    "history5=model5.fit(X_train,y_train, batch_size=64, epochs=epochs, validation_split=0.2, verbose=1)\n",
    "\n",
    "\n",
    "score_bid = model5.evaluate(X_test, y_test, verbose=0)\n",
    "scores.append(score_bid)\n",
    "print('Test loss:', score_bid[0])\n",
    "print('Test accuracy:', score_bid[1])"
   ]
  },
  {
   "cell_type": "code",
   "execution_count": 44,
   "metadata": {},
   "outputs": [
    {
     "data": {
      "image/png": "[encoded data removed]",
      "text/plain": [
       "<Figure size 432x288 with 1 Axes>"
      ]
     },
     "metadata": {
      "needs_background": "light"
     },
     "output_type": "display_data"
    },
    {
     "name": "stdout",
     "output_type": "stream",
     "text": [
      "Saved model to disk\n"
     ]
    }
   ],
   "source": [
    "plt.plot(history5.history['acc'])\n",
    "plt.plot(history5.history['val_acc'])\n",
    "plt.title('model accuracy')\n",
    "plt.ylabel('accuracy')\n",
    "plt.xlabel('epoch')\n",
    "plt.legend(['train', 'validation'], loc='upper left')\n",
    "plt.show()\n",
    "\n",
    "model5.save_weights(\"model_bi.h5\")\n",
    "print(\"Saved model to disk\")\n",
    "\n",
    "#model=loaded_model.load_weights(\"model_bi.h5\")\n",
    "#print(\"Loaded model from disk\")"
   ]
  },
  {
   "cell_type": "markdown",
   "metadata": {},
   "source": [
    "### Let's compare the results"
   ]
  },
  {
   "cell_type": "code",
   "execution_count": 45,
   "metadata": {},
   "outputs": [
    {
     "data": {
      "text/html": [
       "<div>\n",
       "<style scoped>\n",
       "    .dataframe tbody tr th:only-of-type {\n",
       "        vertical-align: middle;\n",
       "    }\n",
       "\n",
       "    .dataframe tbody tr th {\n",
       "        vertical-align: top;\n",
       "    }\n",
       "\n",
       "    .dataframe thead th {\n",
       "        text-align: right;\n",
       "    }\n",
       "</style>\n",
       "<table border=\"1\" class=\"dataframe\">\n",
       "  <thead>\n",
       "    <tr style=\"text-align: right;\">\n",
       "      <th></th>\n",
       "      <th>0</th>\n",
       "      <th>1</th>\n",
       "      <th>2</th>\n",
       "      <th>3</th>\n",
       "      <th>4</th>\n",
       "      <th>5</th>\n",
       "    </tr>\n",
       "  </thead>\n",
       "  <tbody>\n",
       "    <tr>\n",
       "      <th>0</th>\n",
       "      <td>[0.6134560642076686, 0.6951871676878496]</td>\n",
       "      <td>[0.5404806961031521, 0.7807486618266386]</td>\n",
       "      <td>[0.5996030412893244, 0.7005347580833231]</td>\n",
       "      <td>[0.4137591690940653, 0.8395721902821791]</td>\n",
       "      <td>[0.4417958149616731, 0.8128342223677406]</td>\n",
       "      <td>[0.7745109834773017, 0.7486631057479165]</td>\n",
       "    </tr>\n",
       "  </tbody>\n",
       "</table>\n",
       "</div>"
      ],
      "text/plain": [
       "                                          0  \\\n",
       "0  [0.6134560642076686, 0.6951871676878496]   \n",
       "\n",
       "                                          1  \\\n",
       "0  [0.5404806961031521, 0.7807486618266386]   \n",
       "\n",
       "                                          2  \\\n",
       "0  [0.5996030412893244, 0.7005347580833231]   \n",
       "\n",
       "                                          3  \\\n",
       "0  [0.4137591690940653, 0.8395721902821791]   \n",
       "\n",
       "                                          4  \\\n",
       "0  [0.4417958149616731, 0.8128342223677406]   \n",
       "\n",
       "                                          5  \n",
       "0  [0.7745109834773017, 0.7486631057479165]  "
      ]
     },
     "execution_count": 45,
     "metadata": {},
     "output_type": "execute_result"
    }
   ],
   "source": [
    "compare = pd.DataFrame([scores])\n",
    "#compare.columns = [\"Dictionary\", \"Logit\", \"W2V\",\"W2Vtuned\",\"ProperlyW2Vtuned\",\"GloVe\", \"GloVetuned\",\"Bidirectional\"]\n",
    "compare\n",
    "#Current best results vary from 91 to 94% accuracy"
   ]
  },
  {
   "cell_type": "code",
   "execution_count": null,
   "metadata": {},
   "outputs": [],
   "source": []
  }
 ],
 "metadata": {
  "kernelspec": {
   "display_name": "Python 3",
   "language": "python",
   "name": "python3"
  },
  "language_info": {
   "codemirror_mode": {
    "name": "ipython",
    "version": 3
   },
   "file_extension": ".py",
   "mimetype": "text/x-python",
   "name": "python",
   "nbconvert_exporter": "python",
   "pygments_lexer": "ipython3",
   "version": "3.6.7"
  }
 },
 "nbformat": 4,
 "nbformat_minor": 2
}
