{
 "cells": [
  {
   "cell_type": "markdown",
   "metadata": {},
   "source": [
    "# Python codes used for Lecture 3 on Neural Network Training"
   ]
  },
  {
   "cell_type": "code",
   "execution_count": 1,
   "metadata": {},
   "outputs": [],
   "source": [
    "# Package imports\n",
    "import matplotlib.pyplot as plt\n",
    "import numpy as np\n",
    "import matplotlib\n",
    "\n",
    "# Display plots inline and change default figure size\n",
    "%matplotlib inline\n",
    "matplotlib.rcParams['figure.figsize'] = (10.0, 8.0)"
   ]
  },
  {
   "cell_type": "markdown",
   "metadata": {},
   "source": [
    "## Exemplary data with two dimensions where one variable is just random noise"
   ]
  },
  {
   "cell_type": "code",
   "execution_count": 3,
   "metadata": {},
   "outputs": [
    {
     "data": {
      "image/png": "[encoded data removed]",
      "text/plain": [
       "<Figure size 432x288 with 1 Axes>"
      ]
     },
     "metadata": {
      "needs_background": "light"
     },
     "output_type": "display_data"
    }
   ],
   "source": [
    "# Simulate data where class membership y depends non-linearly on a variable x and \n",
    "# add another variable, which is just random noise\n",
    "n = 200\n",
    "x = np.linspace(start=-10, stop=10, num=n)\n",
    "y = np.sin(x) + 0.2*np.random.normal(size=n)\n",
    "x = np.reshape(x, (n,1))\n",
    "e = np.random.normal(size=n)\n",
    "x = np.insert(x, 0, e, axis=1)\n",
    "\n",
    "plt.plot(x[y>0.5,1], x[y>0.5,0], 'ro')\n",
    "plt.plot(x[y<=0.5,1], x[y<=0.5,0], 'gx')\n",
    "plt.xlabel(\"$x_1$\")\n",
    "plt.ylabel(\"$x_2$\")\n",
    "plt.show()"
   ]
  },
  {
   "cell_type": "code",
   "execution_count": 2,
   "metadata": {},
   "outputs": [
    {
     "data": {
      "image/png": "[encoded data removed]",
      "text/plain": [
       "<Figure size 432x288 with 1 Axes>"
      ]
     },
     "metadata": {
      "needs_background": "light"
     },
     "output_type": "display_data"
    }
   ],
   "source": [
    "def make_data(N=50):\n",
    "    ''' Generate synthetic data with sample size N \n",
    "    of two variables, x and y, that are related to each\n",
    "    other in a nonlinear manner. '''\n",
    "    \n",
    "    X = 0.5*np.random.normal(size=N)+0.35\n",
    "    Xt = 0.75*X-0.35\n",
    "    X = X.reshape((N,1))\n",
    "\n",
    "    Y = -(8 * Xt**2 + 0.1*Xt + 0.1) + 0.05 * np.random.normal(size=N)\n",
    "    Y = np.exp(Y) + 0.05 * np.random.normal(size=N)\n",
    "    Y /= max(np.abs(Y))\n",
    "    \n",
    "    # Add another variable which is just random noise\n",
    "    e = np.random.normal(size=N)\n",
    "    X =np.insert(X, 0, e, axis=1)\n",
    "    return X, Y\n",
    "\n",
    "X, y = make_data(200)\n",
    "ix_pos = y<0.5\n",
    "plt.plot(X[ix_pos,1], X[ix_pos,0], 'ro', label='positives')\n",
    "plt.plot(X[np.invert(ix_pos),1], X[np.invert(ix_pos),0], 'gx', label='negatives')\n",
    "#plt.legend(loc='best')\n",
    "plt.xlabel('$x_1$')\n",
    "plt.ylabel('$x_2$')\n",
    "plt.show()"
   ]
  },
  {
   "cell_type": "markdown",
   "metadata": {},
   "source": [
    "## Illustrate the vanishing / exploding gradiant problem\n",
    "Example taken from https://towardsdatascience.com/weight-initialization-in-neural-networks-a-journey-from-the-basics-to-kaiming-954fb9b47c79\n",
    "    "
   ]
  },
  {
   "cell_type": "code",
   "execution_count": 13,
   "metadata": {},
   "outputs": [
    {
     "data": {
      "image/png": "[encoded data removed]",
      "text/plain": [
       "<Figure size 432x288 with 1 Axes>"
      ]
     },
     "metadata": {
      "needs_background": "light"
     },
     "output_type": "display_data"
    }
   ],
   "source": [
    "# Generate random input data using the normal distribution\n",
    "m=512\n",
    "x = np.random.normal(size=m)\n",
    "x = x.reshape((m,1))\n",
    "plt.hist(x)\n",
    "plt.title(\"Histogram of random x values\")\n",
    "plt.show()"
   ]
  },
  {
   "cell_type": "code",
   "execution_count": 32,
   "metadata": {},
   "outputs": [
    {
     "name": "stdout",
     "output_type": "stream",
     "text": [
      "Mean of x is -3.31e-160 with std. deviation of 5.69e-159\n"
     ]
    }
   ],
   "source": [
    "# Compute forward pass through 100 layers without non-linear activation\n",
    "# (just matrix multiplication)\n",
    "for i in range(100):\n",
    "    W =np.random.normal(size=(m,m))*0.001\n",
    "    x = np.dot(W,x)\n",
    "# check moments of the resulting output    \n",
    "print(\"Mean of x is {:.2e} with std. deviation of {:.2e}\".format(x.mean(), x.std()))"
   ]
  },
  {
   "cell_type": "markdown",
   "metadata": {},
   "source": [
    "## Variance among network weights\n",
    "We can demonstrate that at a given layer, the matrix product of inputs $x$ and weight matrix $W$ that we initialized from a standard normal distribution will, on average, have a standard deviation very close to the square root of the number of input connections, which in our example is $\\sqrt 512$."
   ]
  },
  {
   "cell_type": "code",
   "execution_count": 28,
   "metadata": {},
   "outputs": [
    {
     "name": "stdout",
     "output_type": "stream",
     "text": [
      "Mean over activation levels is 0.0202\n",
      "Variance over activation levels is 22.3877\n",
      "Root of number of connections is 22.6274\n"
     ]
    }
   ],
   "source": [
    "m=512\n",
    "n=100\n",
    "mean, var = 0., 0.\n",
    "for i in range(n):\n",
    "    x = np.random.normal(size=(m,1))\n",
    "    W = np.random.normal(size=(m,m))\n",
    "    y = np.dot(W,x)\n",
    "    mean +=y.mean().item()\n",
    "    var += y.var().item()\n",
    "\n",
    "print(\"Mean over activation levels is {:.4f}\".format(mean/n))\n",
    "print(\"Variance over activation levels is {:.4f}\".format(np.sqrt(var/n)))\n",
    "print(\"Root of number of connections is {:.4f}\".format(np.sqrt(m)))"
   ]
  },
  {
   "cell_type": "markdown",
   "metadata": {},
   "source": [
    "### Another example of gradient vanishing\n",
    "Here we show the development of a range of numbers after successive applications of the sigmoid function."
   ]
  },
  {
   "cell_type": "code",
   "execution_count": 30,
   "metadata": {},
   "outputs": [
    {
     "name": "stdout",
     "output_type": "stream",
     "text": [
      "[-3.         -2.33333333 -1.66666667 -1.         -0.33333333  0.33333333\n",
      "  1.          1.66666667  2.33333333  3.        ]\n",
      "[0.21289463 0.28499136 0.36098874 0.44219719 0.52838551 0.61658307\n",
      " 0.70240408 0.78312396 0.85871701 0.93054741]\n"
     ]
    }
   ],
   "source": [
    "# abandoned\n",
    "n=10\n",
    "rep = 10\n",
    "x = np.linspace(start=-3, stop=3, num=n)\n",
    "\n",
    "def sigmoid(x):\n",
    "    s = 1/(1+np.exp(-x))\n",
    "    return s\n",
    "y = np.zeros(shape=(n,rep))\n",
    "\n",
    "y[0,:]=x    \n",
    "for i in np.arange(1,rep):\n",
    "    y[i,:] = sigmoid(y[i-1,])\n",
    "    \n",
    "print(x)\n",
    "print(np.mean(y, axis=0))"
   ]
  },
  {
   "cell_type": "code",
   "execution_count": 46,
   "metadata": {},
   "outputs": [
    {
     "data": {
      "image/png": "[encoded data removed]",
      "text/plain": [
       "<Figure size 432x288 with 1 Axes>"
      ]
     },
     "metadata": {
      "needs_background": "light"
     },
     "output_type": "display_data"
    }
   ],
   "source": [
    "x=0.95\n",
    "rep = 25\n",
    "z=np.zeros(rep)\n",
    "for i in np.arange(rep):\n",
    "    if i==0:\n",
    "        z[i]=x\n",
    "    else:\n",
    "        z[i]=z[i-1]*x\n",
    "\n",
    "plt.plot(np.arange(rep),z)\n",
    "plt.show()"
   ]
  },
  {
   "cell_type": "markdown",
   "metadata": {},
   "source": [
    "## Illustrate Input Normalization\n",
    "Consider the RFM score introduced the the lecture as a standard to characterize customer behavior. Image we describe customers in terms of their RFM characteristics using the following measurements:\n",
    "-  R = recency of last purchase: difference in days from the day of the last purchase to today\n",
    "-  F = frequency of purchases: average differences in days between two consequtive purchases\n",
    "-  M = monetary value: aveage purchase amount\n",
    "\n",
    "Let's focus on just two characteristics, R and F. Naturally, their value ranges will differ. Let's assume customers by every second day on average (R) and assume further that the average inter-purchase time (F) is equal to 4 days. Below, we generate corresponding data using a bi-variate normal distribution, assuming that R and F are independent for simplicity and distributed with variances of 1 and 4, respectively."
   ]
  },
  {
   "cell_type": "code",
   "execution_count": 15,
   "metadata": {},
   "outputs": [
    {
     "data": {
      "image/png": "[encoded data removed]",
      "text/plain": [
       "<Figure size 432x288 with 1 Axes>"
      ]
     },
     "metadata": {
      "needs_background": "light"
     },
     "output_type": "display_data"
    }
   ],
   "source": [
    "np.random.seed(123)\n",
    "mu = np.array([2,4])\n",
    "sig = np.array([[1,0],[0,4]]) \n",
    "n=100\n",
    "samples = np.random.multivariate_normal(mu, sig, n)\n",
    "\n",
    "# Plot the data\n",
    "fig = plt.figure()\n",
    "plt.scatter(samples[:,0],samples[:,1], marker='o')\n",
    "plt.xlabel(\"R\")\n",
    "plt.ylabel(\"F\")\n",
    "plt.ylim(bottom=-10, top=10)\n",
    "plt.xlim(left=-10, right=10)\n",
    "plt.show()"
   ]
  },
  {
   "cell_type": "markdown",
   "metadata": {},
   "source": [
    "The scatter plot highlights the different means and also the larger variance along the F dimension. Let's next verify how standardization makes the R and F values more comparable. To that end, we first substract the mean and plot the resulting data."
   ]
  },
  {
   "cell_type": "code",
   "execution_count": 16,
   "metadata": {},
   "outputs": [
    {
     "data": {
      "image/png": "[encoded data removed]",
      "text/plain": [
       "<Figure size 432x288 with 1 Axes>"
      ]
     },
     "metadata": {
      "needs_background": "light"
     },
     "output_type": "display_data"
    }
   ],
   "source": [
    "z = (samples - np.mean(samples, axis=0)) \n",
    "fig = plt.figure()\n",
    "plt.scatter(z[:,0],z[:,1], marker='o')\n",
    "plt.xlabel(\"R\")\n",
    "plt.ylabel(\"F\")\n",
    "plt.ylim(bottom=-10, top=10)\n",
    "plt.xlim(left=-10, right=10)\n",
    "plt.show()"
   ]
  },
  {
   "cell_type": "code",
   "execution_count": 17,
   "metadata": {},
   "outputs": [
    {
     "data": {
      "image/png": "[encoded data removed]",
      "text/plain": [
       "<Figure size 432x288 with 1 Axes>"
      ]
     },
     "metadata": {
      "needs_background": "light"
     },
     "output_type": "display_data"
    }
   ],
   "source": [
    "\n",
    "z = z / np.array(np.std(samples, axis=0))\n",
    "\n",
    "fig = plt.figure()\n",
    "plt.scatter(z[:,0],z[:,1], marker='o')\n",
    "plt.xlabel(\"R\")\n",
    "plt.ylabel(\"F\")\n",
    "plt.ylim(bottom=-10, top=10)\n",
    "plt.xlim(left=-10, right=10)\n",
    "plt.show()"
   ]
  },
  {
   "cell_type": "code",
   "execution_count": 24,
   "metadata": {},
   "outputs": [
    {
     "name": "stdout",
     "output_type": "stream",
     "text": [
      "[-4.15917301e-16  1.52655666e-16]\n",
      "[1. 1.]\n"
     ]
    }
   ],
   "source": [
    "print(z.mean(axis=0))\n",
    "print(z.std(axis=0))"
   ]
  },
  {
   "cell_type": "code",
   "execution_count": null,
   "metadata": {},
   "outputs": [],
   "source": []
  }
 ],
 "metadata": {
  "kernelspec": {
   "display_name": "Python 3",
   "language": "python",
   "name": "python3"
  },
  "language_info": {
   "codemirror_mode": {
    "name": "ipython",
    "version": 3
   },
   "file_extension": ".py",
   "mimetype": "text/x-python",
   "name": "python",
   "nbconvert_exporter": "python",
   "pygments_lexer": "ipython3",
   "version": "3.7.6"
  }
 },
 "nbformat": 4,
 "nbformat_minor": 2
}
